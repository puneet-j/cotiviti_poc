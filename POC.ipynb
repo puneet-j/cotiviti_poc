{
 "cells": [
  {
   "cell_type": "code",
   "execution_count": 15,
   "metadata": {},
   "outputs": [],
   "source": [
    "import pandas as pd\n",
    "import os\n",
    "import glob\n",
    "import snowflake.connector\n"
   ]
  },
  {
   "attachments": {},
   "cell_type": "markdown",
   "metadata": {},
   "source": [
    "Read all files"
   ]
  },
  {
   "cell_type": "code",
   "execution_count": 16,
   "metadata": {},
   "outputs": [
    {
     "name": "stderr",
     "output_type": "stream",
     "text": [
      "/var/folders/ng/kxgs87g91gbb9s1st4h8n99m0000gq/T/ipykernel_15262/4262252691.py:8: DtypeWarning: Columns (4,6,7,8,9,10,11,12,13,15,16,17,18,21,23,24,25,26,27,28,29,30,31,32) have mixed types. Specify dtype option on import or set low_memory=False.\n",
      "  hosp_dfs = {os.path.basename(f): pd.read_csv(f) for f in hosp_files}\n"
     ]
    }
   ],
   "source": [
    "\n",
    "# Define the path to your data\n",
    "data_path = \"./\"\n",
    "\n",
    "# Load all .csv.gz files in the 'hosp' folder\n",
    "hosp_files = glob.glob(os.path.join(data_path, 'hosp/*.csv.gz'))\n",
    "\n",
    "# Create a dictionary of DataFrames\n",
    "hosp_dfs = {os.path.basename(f): pd.read_csv(f) for f in hosp_files}\n",
    "# # Now you can access each DataFrame by the filename, example: print(hosp_dfs['admissions.csv.gz'].head())\n",
    "\n",
    "\n",
    "# Load all .csv.gz files in the 'hosp' folder\n",
    "icu_files = glob.glob(os.path.join(data_path, 'icu/*.csv.gz'))\n",
    "\n",
    "# Create a dictionary of DataFrames\n",
    "icu_dfs = {os.path.basename(f): pd.read_csv(f) for f in icu_files}\n",
    "# # Now you can access each DataFrame by the filename, example: print(icu_dfs['icustays.csv.gz'].head())"
   ]
  },
  {
   "attachments": {},
   "cell_type": "markdown",
   "metadata": {},
   "source": [
    "Example Analysis - ICU stay analysis"
   ]
  },
  {
   "cell_type": "code",
   "execution_count": 17,
   "metadata": {},
   "outputs": [
    {
     "name": "stderr",
     "output_type": "stream",
     "text": [
      "/var/folders/ng/kxgs87g91gbb9s1st4h8n99m0000gq/T/ipykernel_15262/3324537896.py:14: DeprecationWarning: DataFrameGroupBy.apply operated on the grouping columns. This behavior is deprecated, and in a future version of pandas the grouping columns will be excluded from the operation. Either pass `include_groups=False` to exclude the groupings or explicitly select the grouping columns after groupby to silence this warning.\n",
      "  readmissions_df = icustays_df.groupby('subject_id').apply(lambda x: x.sort_values('intime')).reset_index(drop=True)\n"
     ]
    },
    {
     "data": {
      "image/png": "[encoded data removed]",
      "text/plain": [
       "<Figure size 640x480 with 1 Axes>"
      ]
     },
     "metadata": {},
     "output_type": "display_data"
    }
   ],
   "source": [
    "# Load the icustays table\n",
    "icustays_df = icu_dfs['icustays.csv.gz'].head()\n",
    "# print(icustays_df)\n",
    "# Calculate the length of stay for each ICU admission\n",
    "icustays_df = icustays_df.assign(\n",
    "    length_of_stay=(pd.to_datetime(icustays_df['outtime']) - pd.to_datetime(icustays_df['intime'])).dt.total_seconds() / (60 * 60 * 24)\n",
    ")\n",
    "length_of_stay_distribution = icustays_df['length_of_stay'].hist(grid=False)\n",
    "\n",
    "icustays_df = icustays_df.assign(outtime = pd.to_datetime(icustays_df['outtime']))\n",
    "icustays_df = icustays_df.assign(intime = pd.to_datetime(icustays_df['intime']))\n",
    "\n",
    "# Check readmission within 30 days\n",
    "readmissions_df = icustays_df.groupby('subject_id').apply(lambda x: x.sort_values('intime')).reset_index(drop=True)\n",
    "readmissions_df.loc[:,'readmission'] = readmissions_df.groupby('subject_id')['intime'].diff().dt.total_seconds() / (60 * 60 * 24)\n",
    "readmission_rate = (readmissions_df['readmission'] < 30).mean()"
   ]
  },
  {
   "attachments": {},
   "cell_type": "markdown",
   "metadata": {},
   "source": [
    "**Proposed Solution**"
   ]
  },
  {
   "attachments": {},
   "cell_type": "markdown",
   "metadata": {},
   "source": [
    "MIMIC-IV Data pre-processing"
   ]
  },
  {
   "cell_type": "code",
   "execution_count": 18,
   "metadata": {},
   "outputs": [
    {
     "name": "stdout",
     "output_type": "stream",
     "text": [
      "10014729  :  poe_id: 10014729-590. poe_seq: 590. subject_id: 10014729. hadm_id: 23300884. ordertime: 2125-03-26 09:02:16. order_type: Medications. transaction_type: New. order_provider_id: P00AEX. order_status: Inactive. poe_id: 10014729-518. poe_seq: 518. subject_id: 10014729. field_name: Admit to. field_value: Surgery. subject_id: 10014729. gender: F. anchor_age: 21. anchor_year: 2125. anchor_year_group: 2011 - 2013. subject_id: 10014729. hadm_id: 23300884. seq_num: 3. icd_code: 99832. icd_version: 9. subject_id: 10014729. hadm_id: 23300884. pharmacy_id: 8661097. poe_id: 10014729-356. poe_seq: 356.0. order_provider_id: P98O2Z. starttime: 2125-03-19 20:00:00. stoptime: 2125-03-20 18:00:00. drug_type: MAIN. drug: Insulin. formulary_drug_cd: INRHI. gsn: 001723. ndc: 2821501.0. prod_strength: 100 Units / mL - 10 mL Vial. dose_val_rx: 0. dose_unit_rx: UNIT. form_val_disp: 0. form_unit_disp: mL. route: SC. subject_id: 10014729. hadm_id: 28889419. drg_type: HCFA. drg_code: 908. description: OTHER O.R. PROCEDURES FOR INJURIES W CC. subject_id: 10014729. hadm_id: 28889419.0. transfer_id: 36847815. eventtype: discharge. intime: 2125-03-06 14:26:51. subject_id: 10014729. hadm_id: 23300884. admittime: 2125-03-19 16:58:00. dischtime: 2125-03-28 13:37:00. admission_type: EW EMER.. admit_provider_id: P76K54. admission_location: EMERGENCY ROOM. discharge_location: HOME HEALTH CARE. insurance: Other. language: ENGLISH. marital_status: SINGLE. race: WHITE - OTHER EUROPEAN. edregtime: 2125-03-19 12:36:00. edouttime: 2125-03-19 18:45:00. hospital_expire_flag: 0. labevent_id: 187725. subject_id: 10014729. hadm_id: 23300884.0. specimen_id: 47191659. itemid: 51009. charttime: 2125-03-25 10:00:00. storetime: 2125-03-25 10:54:00. value: 13.5. valuenum: 13.5. valueuom: ug/mL. ref_range_lower: 10.0. ref_range_upper: 20.0. priority: ROUTINE. subject_id: 10014729. hadm_id: 28889419. pharmacy_id: 8933330. poe_id: 10014729-35. starttime: 2125-02-27 20:00:00. stoptime: 2125-02-27 17:00:00. medication: Chlorhexidine Gluconate 0.12% Oral Rinse. proc_type: Unit Dose. status: Discontinued. entertime: 2125-02-27 16:30:43. verifiedtime: 2125-02-27 16:30:43. route: ORAL. frequency: BID. disp_sched: 08, 20. doses_per_24_hrs: 2.0. duration_interval: Ongoing. expiration_value: 36.0. expiration_unit: Hours. dispensation: OmniCell. subject_id: 10014729. hadm_id: 23300884. seq_num: 4. chartdate: 2125-03-23. icd_code: 3897. icd_version: 9. subject_id: 10014729. hadm_id: 23300884. transfertime: 2125-03-20 10:58:51. prev_service: VSURG. curr_service: CSURG. subject_id: 10014729. chartdate: 2125-02-22. seq_num: 1. result_name: Height (Inches). result_value: 65. microevent_id: 5229. subject_id: 10014729. micro_specimen_id: 2551368. order_provider_id: P38GCF. chartdate: 2125-02-22 00:00:00. charttime: 2125-02-22 11:23:00. spec_itemid: 70059. spec_type_desc: Staph aureus swab. test_seq: 1. storedate: 2125-02-24 00:00:00. storetime: 2125-02-24 08:38:00. test_itemid: 90198. test_name: Staph aureus Screen. org_itemid: 80293.0. org_name: POSITIVE FOR METHICILLIN RESISTANT STAPH AUREUS. isolate_num: 1.0. subject_id: 10014729. hadm_id: 28889419. stay_id: 33558396. caregiver_id: 80393. charttime: 2125-02-28 04:10:00. storetime: 2125-02-28 04:10:00. itemid: 224296. value: 2125-02-27 00:00:00. valueuom: Date. warning: 0. subject_id: 10014729. hadm_id: 28889419. stay_id: 33558396. caregiver_id: 53913. starttime: 2125-02-27 14:45:00. endtime: 2125-02-27 16:00:00. storetime: 2125-02-27 15:29:00. itemid: 226060. amount: 29.999998211860657. amountuom: Kcal. rate: 5517.24100112915. rateuom: mcg/kg/min. orderid: 6089990. linkorderid: 6089990. statusdescription: ChangeDose/Rate. originalamount: 0. originalrate: 109.99999237060548. subject_id: 10014729. hadm_id: 28889419. stay_id: 33558396. caregiver_id: 53913. starttime: 2125-02-27 20:06:00. endtime: 2125-02-27 21:06:00. storetime: 2125-02-27 20:06:00. itemid: 221456. amount: 2.0000001043081284. amountuom: grams. orderid: 1673712. linkorderid: 1673712. ordercategoryname: 02-Fluids (Crystalloids). secondaryordercategoryname: Additive (Crystalloid). ordercomponenttypedescription: Additives                                         Ampoule                                           . ordercategorydescription: Continuous IV. patientweight: 72.5. totalamount: 100.0. totalamountuom: ml. isopenbag: 0. continueinnextdept: 0. statusdescription: FinishedRunning. originalamount: 2.0. originalrate: 0.0333333350718021. subject_id: 10014729. hadm_id: 28889419. stay_id: 33558396. caregiver_id: 80743.0. starttime: 2125-02-27 14:45:00. endtime: 2125-02-27 19:05:00. storetime: 2125-02-27 19:07:00. itemid: 225792. value: 260.0. valueuom: min. orderid: 4513647. linkorderid: 4513647. ordercategoryname: Ventilation. ordercategorydescription: ContinuousProcess. patientweight: 72.5. isopenbag: 1. continueinnextdept: 0. statusdescription: FinishedRunning. ORIGINALAMOUNT: 260.0. ORIGINALRATE: 1. subject_id: 10014729. hadm_id: 28889419. stay_id: 33558396. caregiver_id: 6770.0. charttime: 2125-03-01 00:00:00. storetime: 2125-03-01 05:31:00. itemid: 223782. value: Constant. warning: 0.0. subject_id: 10014729. hadm_id: 28889419. stay_id: 33558396. first_careunit: Cardiac Vascular Intensive Care Unit (CVICU). last_careunit: Cardiac Vascular Intensive Care Unit (CVICU). intime: 2125-02-27 10:03:08. outtime: 2125-03-01 21:21:37. los: 2.4711689814814815. subject_id: 10014729. hadm_id: 28889419. stay_id: 33558396. caregiver_id: 80393. charttime: 2125-02-28 03:00:00. storetime: 2125-02-28 02:53:00. itemid: 226559. value: 150. valueuom: ml.\n"
     ]
    }
   ],
   "source": [
    "\n",
    "def generate_summary_from_csv(patient_id, df, key_column='subject_id'):\n",
    "    \"\"\"\n",
    "    Generates a summary for a given patient based on the information available in a single DataFrame.\n",
    "    \n",
    "    Parameters:\n",
    "    - patient_id: The ID of the patient.\n",
    "    - df: The DataFrame containing data for the patient.\n",
    "    - key_column: The column to use as a key for filtering the DataFrame (default is 'subject_id').\n",
    "    \n",
    "    Returns:\n",
    "    - A summary string.\n",
    "    \"\"\"\n",
    "    # Check if the key_column exists in the DataFrame\n",
    "    if key_column not in df.columns:\n",
    "        return None\n",
    "    \n",
    "    # Filter the DataFrame for the specific patient\n",
    "    patient_data = df[df[key_column] == patient_id]\n",
    "    \n",
    "    if patient_data.empty:\n",
    "        return None\n",
    "    \n",
    "    row = patient_data.iloc[0]  # Take the first row for simplicity\n",
    "    \n",
    "    summary_parts = []\n",
    "    for column_name, value in row.items():\n",
    "        if pd.notna(value):\n",
    "            summary_parts.append(f\"{column_name}: {value}\")\n",
    "    \n",
    "    return \". \".join(summary_parts) + \".\"\n",
    "\n",
    "def generate_aggregated_summary(patient_id, hosp_dfs, icu_dfs):\n",
    "    summary_parts = []\n",
    "    \n",
    "    # Generate summaries from hospital DataFrames\n",
    "    for file_name, df in hosp_dfs.items():\n",
    "        key_column = 'subject_id' if 'subject_id' in df.columns else 'hadm_id'\n",
    "        summary = generate_summary_from_csv(patient_id, df, key_column=key_column)\n",
    "        if summary:\n",
    "            summary_parts.append(summary)\n",
    "    \n",
    "    # Generate summaries from ICU DataFrames\n",
    "    for file_name, df in icu_dfs.items():\n",
    "        key_column = 'subject_id' if 'subject_id' in df.columns else 'stay_id'\n",
    "        summary = generate_summary_from_csv(patient_id, df, key_column=key_column)\n",
    "        if summary:\n",
    "            summary_parts.append(summary)\n",
    "    \n",
    "    return \" \".join(summary_parts)\n",
    "\n",
    "# Get a list of all unique patient IDs (from any DataFrame, such as patients.csv.gz)\n",
    "patient_ids = hosp_dfs['patients.csv.gz']['subject_id'].unique()\n",
    "\n",
    "# Dictionary to store the summaries\n",
    "all_patient_summaries = {}\n",
    "\n",
    "# Generate summaries for each patient\n",
    "for patient_id in patient_ids:\n",
    "    summary = generate_aggregated_summary(patient_id, hosp_dfs, icu_dfs)\n",
    "    all_patient_summaries[patient_id] = summary\n",
    "    # break\n",
    "\n",
    "# Convert to DataFrame for easy handling\n",
    "summary_df = pd.DataFrame(list(all_patient_summaries.items()), columns=['subject_id', 'patient_summary'])\n",
    "print(summary_df['subject_id'].values[0], ' : ', summary_df['patient_summary'].values[0])\n",
    "summary_df.to_csv('to_sf.csv')\n"
   ]
  },
  {
   "attachments": {},
   "cell_type": "markdown",
   "metadata": {},
   "source": [
    "**Snowflake Connection** \n",
    "\n",
    "I have credentials listed here in case you want to go into this test snowflake instance and explore it."
   ]
  },
  {
   "cell_type": "code",
   "execution_count": 19,
   "metadata": {},
   "outputs": [
    {
     "ename": "OperationalError",
     "evalue": "250001: Could not connect to Snowflake backend after 1 attempt(s).Aborting",
     "output_type": "error",
     "traceback": [
      "\u001b[0;31m---------------------------------------------------------------------------\u001b[0m",
      "\u001b[0;31mOperationalError\u001b[0m                          Traceback (most recent call last)",
      "File \u001b[0;32m~/Library/Python/3.9/lib/python/site-packages/snowflake/connector/connection.py:1153\u001b[0m, in \u001b[0;36mSnowflakeConnection._authenticate\u001b[0;34m(self, auth_instance)\u001b[0m\n\u001b[1;32m   1152\u001b[0m \u001b[39mtry\u001b[39;00m:\n\u001b[0;32m-> 1153\u001b[0m     auth\u001b[39m.\u001b[39;49mauthenticate(\n\u001b[1;32m   1154\u001b[0m         auth_instance\u001b[39m=\u001b[39;49mauth_instance,\n\u001b[1;32m   1155\u001b[0m         account\u001b[39m=\u001b[39;49m\u001b[39mself\u001b[39;49m\u001b[39m.\u001b[39;49maccount,\n\u001b[1;32m   1156\u001b[0m         user\u001b[39m=\u001b[39;49m\u001b[39mself\u001b[39;49m\u001b[39m.\u001b[39;49muser,\n\u001b[1;32m   1157\u001b[0m         database\u001b[39m=\u001b[39;49m\u001b[39mself\u001b[39;49m\u001b[39m.\u001b[39;49mdatabase,\n\u001b[1;32m   1158\u001b[0m         schema\u001b[39m=\u001b[39;49m\u001b[39mself\u001b[39;49m\u001b[39m.\u001b[39;49mschema,\n\u001b[1;32m   1159\u001b[0m         warehouse\u001b[39m=\u001b[39;49m\u001b[39mself\u001b[39;49m\u001b[39m.\u001b[39;49mwarehouse,\n\u001b[1;32m   1160\u001b[0m         role\u001b[39m=\u001b[39;49m\u001b[39mself\u001b[39;49m\u001b[39m.\u001b[39;49mrole,\n\u001b[1;32m   1161\u001b[0m         passcode\u001b[39m=\u001b[39;49m\u001b[39mself\u001b[39;49m\u001b[39m.\u001b[39;49m_passcode,\n\u001b[1;32m   1162\u001b[0m         passcode_in_password\u001b[39m=\u001b[39;49m\u001b[39mself\u001b[39;49m\u001b[39m.\u001b[39;49m_passcode_in_password,\n\u001b[1;32m   1163\u001b[0m         mfa_callback\u001b[39m=\u001b[39;49m\u001b[39mself\u001b[39;49m\u001b[39m.\u001b[39;49m_mfa_callback,\n\u001b[1;32m   1164\u001b[0m         password_callback\u001b[39m=\u001b[39;49m\u001b[39mself\u001b[39;49m\u001b[39m.\u001b[39;49m_password_callback,\n\u001b[1;32m   1165\u001b[0m         session_parameters\u001b[39m=\u001b[39;49m\u001b[39mself\u001b[39;49m\u001b[39m.\u001b[39;49m_session_parameters,\n\u001b[1;32m   1166\u001b[0m     )\n\u001b[1;32m   1167\u001b[0m \u001b[39mexcept\u001b[39;00m OperationalError \u001b[39mas\u001b[39;00m e:\n",
      "File \u001b[0;32m~/Library/Python/3.9/lib/python/site-packages/snowflake/connector/auth/_auth.py:250\u001b[0m, in \u001b[0;36mAuth.authenticate\u001b[0;34m(self, auth_instance, account, user, database, schema, warehouse, role, passcode, passcode_in_password, mfa_callback, password_callback, session_parameters, timeout)\u001b[0m\n\u001b[1;32m    249\u001b[0m \u001b[39mtry\u001b[39;00m:\n\u001b[0;32m--> 250\u001b[0m     ret \u001b[39m=\u001b[39m \u001b[39mself\u001b[39;49m\u001b[39m.\u001b[39;49m_rest\u001b[39m.\u001b[39;49m_post_request(\n\u001b[1;32m    251\u001b[0m         url,\n\u001b[1;32m    252\u001b[0m         headers,\n\u001b[1;32m    253\u001b[0m         json\u001b[39m.\u001b[39;49mdumps(body),\n\u001b[1;32m    254\u001b[0m         timeout\u001b[39m=\u001b[39;49mauth_timeout,\n\u001b[1;32m    255\u001b[0m         socket_timeout\u001b[39m=\u001b[39;49mauth_timeout,\n\u001b[1;32m    256\u001b[0m     )\n\u001b[1;32m    257\u001b[0m \u001b[39mexcept\u001b[39;00m ForbiddenError \u001b[39mas\u001b[39;00m err:\n\u001b[1;32m    258\u001b[0m     \u001b[39m# HTTP 403\u001b[39;00m\n",
      "File \u001b[0;32m~/Library/Python/3.9/lib/python/site-packages/snowflake/connector/network.py:720\u001b[0m, in \u001b[0;36mSnowflakeRestful._post_request\u001b[0;34m(self, url, headers, body, token, timeout, _no_results, no_retry, socket_timeout, _include_retry_params)\u001b[0m\n\u001b[1;32m    718\u001b[0m     pprint(ret)\n\u001b[0;32m--> 720\u001b[0m ret \u001b[39m=\u001b[39m \u001b[39mself\u001b[39;49m\u001b[39m.\u001b[39;49mfetch(\n\u001b[1;32m    721\u001b[0m     \u001b[39m\"\u001b[39;49m\u001b[39mpost\u001b[39;49m\u001b[39m\"\u001b[39;49m,\n\u001b[1;32m    722\u001b[0m     full_url,\n\u001b[1;32m    723\u001b[0m     headers,\n\u001b[1;32m    724\u001b[0m     data\u001b[39m=\u001b[39;49mbody,\n\u001b[1;32m    725\u001b[0m     timeout\u001b[39m=\u001b[39;49mtimeout,\n\u001b[1;32m    726\u001b[0m     token\u001b[39m=\u001b[39;49mtoken,\n\u001b[1;32m    727\u001b[0m     no_retry\u001b[39m=\u001b[39;49mno_retry,\n\u001b[1;32m    728\u001b[0m     socket_timeout\u001b[39m=\u001b[39;49msocket_timeout,\n\u001b[1;32m    729\u001b[0m     _include_retry_params\u001b[39m=\u001b[39;49m_include_retry_params,\n\u001b[1;32m    730\u001b[0m )\n\u001b[1;32m    731\u001b[0m logger\u001b[39m.\u001b[39mdebug(\n\u001b[1;32m    732\u001b[0m     \u001b[39m\"\u001b[39m\u001b[39mret[code] = \u001b[39m\u001b[39m{code}\u001b[39;00m\u001b[39m, after post request\u001b[39m\u001b[39m\"\u001b[39m\u001b[39m.\u001b[39mformat(\n\u001b[1;32m    733\u001b[0m         code\u001b[39m=\u001b[39m(ret\u001b[39m.\u001b[39mget(\u001b[39m\"\u001b[39m\u001b[39mcode\u001b[39m\u001b[39m\"\u001b[39m, \u001b[39m\"\u001b[39m\u001b[39mN/A\u001b[39m\u001b[39m\"\u001b[39m))\n\u001b[1;32m    734\u001b[0m     )\n\u001b[1;32m    735\u001b[0m )\n",
      "File \u001b[0;32m~/Library/Python/3.9/lib/python/site-packages/snowflake/connector/network.py:818\u001b[0m, in \u001b[0;36mSnowflakeRestful.fetch\u001b[0;34m(self, method, full_url, headers, data, timeout, **kwargs)\u001b[0m\n\u001b[1;32m    817\u001b[0m \u001b[39mwhile\u001b[39;00m \u001b[39mTrue\u001b[39;00m:\n\u001b[0;32m--> 818\u001b[0m     ret \u001b[39m=\u001b[39m \u001b[39mself\u001b[39;49m\u001b[39m.\u001b[39;49m_request_exec_wrapper(\n\u001b[1;32m    819\u001b[0m         session, method, full_url, headers, data, retry_ctx, \u001b[39m*\u001b[39;49m\u001b[39m*\u001b[39;49mkwargs\n\u001b[1;32m    820\u001b[0m     )\n\u001b[1;32m    821\u001b[0m     \u001b[39mif\u001b[39;00m ret \u001b[39mis\u001b[39;00m \u001b[39mnot\u001b[39;00m \u001b[39mNone\u001b[39;00m:\n",
      "File \u001b[0;32m~/Library/Python/3.9/lib/python/site-packages/snowflake/connector/network.py:941\u001b[0m, in \u001b[0;36mSnowflakeRestful._request_exec_wrapper\u001b[0;34m(self, session, method, full_url, headers, data, retry_ctx, no_retry, token, **kwargs)\u001b[0m\n\u001b[1;32m    940\u001b[0m \u001b[39mif\u001b[39;00m \u001b[39mnot\u001b[39;00m no_retry:\n\u001b[0;32m--> 941\u001b[0m     \u001b[39mraise\u001b[39;00m e\n\u001b[1;32m    942\u001b[0m logger\u001b[39m.\u001b[39mdebug(\u001b[39m\"\u001b[39m\u001b[39mIgnored error\u001b[39m\u001b[39m\"\u001b[39m, exc_info\u001b[39m=\u001b[39m\u001b[39mTrue\u001b[39;00m)\n",
      "File \u001b[0;32m~/Library/Python/3.9/lib/python/site-packages/snowflake/connector/network.py:872\u001b[0m, in \u001b[0;36mSnowflakeRestful._request_exec_wrapper\u001b[0;34m(self, session, method, full_url, headers, data, retry_ctx, no_retry, token, **kwargs)\u001b[0m\n\u001b[1;32m    871\u001b[0m     \u001b[39mreturn\u001b[39;00m return_object\n\u001b[0;32m--> 872\u001b[0m \u001b[39mself\u001b[39;49m\u001b[39m.\u001b[39;49m_handle_unknown_error(method, full_url, headers, data, conn)\n\u001b[1;32m    873\u001b[0m TelemetryService\u001b[39m.\u001b[39mget_instance()\u001b[39m.\u001b[39mlog_http_request_error(\n\u001b[1;32m    874\u001b[0m     \u001b[39m\"\u001b[39m\u001b[39mHttpRequestUnknownError\u001b[39m\u001b[39m\"\u001b[39m,\n\u001b[1;32m    875\u001b[0m     full_url,\n\u001b[0;32m   (...)\u001b[0m\n\u001b[1;32m    880\u001b[0m     retry_count\u001b[39m=\u001b[39mretry_ctx\u001b[39m.\u001b[39mcnt,\n\u001b[1;32m    881\u001b[0m )\n",
      "File \u001b[0;32m~/Library/Python/3.9/lib/python/site-packages/snowflake/connector/network.py:996\u001b[0m, in \u001b[0;36mSnowflakeRestful._handle_unknown_error\u001b[0;34m(self, method, full_url, headers, data, conn)\u001b[0m\n\u001b[1;32m    991\u001b[0m logger\u001b[39m.\u001b[39merror(\n\u001b[1;32m    992\u001b[0m     \u001b[39mf\u001b[39m\u001b[39m\"\u001b[39m\u001b[39mFailed to get the response. Hanging? \u001b[39m\u001b[39m\"\u001b[39m\n\u001b[1;32m    993\u001b[0m     \u001b[39mf\u001b[39m\u001b[39m\"\u001b[39m\u001b[39mmethod: \u001b[39m\u001b[39m{\u001b[39;00mmethod\u001b[39m}\u001b[39;00m\u001b[39m, url: \u001b[39m\u001b[39m{\u001b[39;00mfull_url\u001b[39m}\u001b[39;00m\u001b[39m, headers:\u001b[39m\u001b[39m{\u001b[39;00mheaders\u001b[39m}\u001b[39;00m\u001b[39m, \u001b[39m\u001b[39m\"\u001b[39m\n\u001b[1;32m    994\u001b[0m     \u001b[39mf\u001b[39m\u001b[39m\"\u001b[39m\u001b[39mdata: \u001b[39m\u001b[39m{\u001b[39;00mdata\u001b[39m}\u001b[39;00m\u001b[39m\"\u001b[39m\n\u001b[1;32m    995\u001b[0m )\n\u001b[0;32m--> 996\u001b[0m Error\u001b[39m.\u001b[39;49merrorhandler_wrapper(\n\u001b[1;32m    997\u001b[0m     conn,\n\u001b[1;32m    998\u001b[0m     \u001b[39mNone\u001b[39;49;00m,\n\u001b[1;32m    999\u001b[0m     OperationalError,\n\u001b[1;32m   1000\u001b[0m     {\n\u001b[1;32m   1001\u001b[0m         \u001b[39m\"\u001b[39;49m\u001b[39mmsg\u001b[39;49m\u001b[39m\"\u001b[39;49m: \u001b[39mf\u001b[39;49m\u001b[39m\"\u001b[39;49m\u001b[39mFailed to get the response. Hanging? method: \u001b[39;49m\u001b[39m{\u001b[39;49;00mmethod\u001b[39m}\u001b[39;49;00m\u001b[39m, url: \u001b[39;49m\u001b[39m{\u001b[39;49;00mfull_url\u001b[39m}\u001b[39;49;00m\u001b[39m\"\u001b[39;49m,\n\u001b[1;32m   1002\u001b[0m         \u001b[39m\"\u001b[39;49m\u001b[39merrno\u001b[39;49m\u001b[39m\"\u001b[39;49m: ER_FAILED_TO_REQUEST,\n\u001b[1;32m   1003\u001b[0m     },\n\u001b[1;32m   1004\u001b[0m )\n",
      "File \u001b[0;32m~/Library/Python/3.9/lib/python/site-packages/snowflake/connector/errors.py:290\u001b[0m, in \u001b[0;36mError.errorhandler_wrapper\u001b[0;34m(connection, cursor, error_class, error_value)\u001b[0m\n\u001b[1;32m    274\u001b[0m \u001b[39m\u001b[39m\u001b[39m\"\"\"Error handler wrapper that calls the errorhandler method.\u001b[39;00m\n\u001b[1;32m    275\u001b[0m \n\u001b[1;32m    276\u001b[0m \u001b[39mArgs:\u001b[39;00m\n\u001b[0;32m   (...)\u001b[0m\n\u001b[1;32m    287\u001b[0m \u001b[39m    exception to the first handler in that order.\u001b[39;00m\n\u001b[1;32m    288\u001b[0m \u001b[39m\"\"\"\u001b[39;00m\n\u001b[0;32m--> 290\u001b[0m handed_over \u001b[39m=\u001b[39m Error\u001b[39m.\u001b[39;49mhand_to_other_handler(\n\u001b[1;32m    291\u001b[0m     connection,\n\u001b[1;32m    292\u001b[0m     cursor,\n\u001b[1;32m    293\u001b[0m     error_class,\n\u001b[1;32m    294\u001b[0m     error_value,\n\u001b[1;32m    295\u001b[0m )\n\u001b[1;32m    296\u001b[0m \u001b[39mif\u001b[39;00m \u001b[39mnot\u001b[39;00m handed_over:\n",
      "File \u001b[0;32m~/Library/Python/3.9/lib/python/site-packages/snowflake/connector/errors.py:348\u001b[0m, in \u001b[0;36mError.hand_to_other_handler\u001b[0;34m(connection, cursor, error_class, error_value)\u001b[0m\n\u001b[1;32m    347\u001b[0m \u001b[39melif\u001b[39;00m connection \u001b[39mis\u001b[39;00m \u001b[39mnot\u001b[39;00m \u001b[39mNone\u001b[39;00m:\n\u001b[0;32m--> 348\u001b[0m     connection\u001b[39m.\u001b[39;49merrorhandler(connection, cursor, error_class, error_value)\n\u001b[1;32m    349\u001b[0m     \u001b[39mreturn\u001b[39;00m \u001b[39mTrue\u001b[39;00m\n",
      "File \u001b[0;32m~/Library/Python/3.9/lib/python/site-packages/snowflake/connector/errors.py:221\u001b[0m, in \u001b[0;36mError.default_errorhandler\u001b[0;34m(connection, cursor, error_class, error_value)\u001b[0m\n\u001b[1;32m    220\u001b[0m done_format_msg \u001b[39m=\u001b[39m error_value\u001b[39m.\u001b[39mget(\u001b[39m\"\u001b[39m\u001b[39mdone_format_msg\u001b[39m\u001b[39m\"\u001b[39m)\n\u001b[0;32m--> 221\u001b[0m \u001b[39mraise\u001b[39;00m error_class(\n\u001b[1;32m    222\u001b[0m     msg\u001b[39m=\u001b[39merror_value\u001b[39m.\u001b[39mget(\u001b[39m\"\u001b[39m\u001b[39mmsg\u001b[39m\u001b[39m\"\u001b[39m),\n\u001b[1;32m    223\u001b[0m     errno\u001b[39m=\u001b[39m\u001b[39mNone\u001b[39;00m \u001b[39mif\u001b[39;00m errno \u001b[39mis\u001b[39;00m \u001b[39mNone\u001b[39;00m \u001b[39melse\u001b[39;00m \u001b[39mint\u001b[39m(errno),\n\u001b[1;32m    224\u001b[0m     sqlstate\u001b[39m=\u001b[39merror_value\u001b[39m.\u001b[39mget(\u001b[39m\"\u001b[39m\u001b[39msqlstate\u001b[39m\u001b[39m\"\u001b[39m),\n\u001b[1;32m    225\u001b[0m     sfqid\u001b[39m=\u001b[39merror_value\u001b[39m.\u001b[39mget(\u001b[39m\"\u001b[39m\u001b[39msfqid\u001b[39m\u001b[39m\"\u001b[39m),\n\u001b[1;32m    226\u001b[0m     query\u001b[39m=\u001b[39merror_value\u001b[39m.\u001b[39mget(\u001b[39m\"\u001b[39m\u001b[39mquery\u001b[39m\u001b[39m\"\u001b[39m),\n\u001b[1;32m    227\u001b[0m     done_format_msg\u001b[39m=\u001b[39m(\n\u001b[1;32m    228\u001b[0m         \u001b[39mNone\u001b[39;00m \u001b[39mif\u001b[39;00m done_format_msg \u001b[39mis\u001b[39;00m \u001b[39mNone\u001b[39;00m \u001b[39melse\u001b[39;00m \u001b[39mbool\u001b[39m(done_format_msg)\n\u001b[1;32m    229\u001b[0m     ),\n\u001b[1;32m    230\u001b[0m     connection\u001b[39m=\u001b[39mconnection,\n\u001b[1;32m    231\u001b[0m     cursor\u001b[39m=\u001b[39mcursor,\n\u001b[1;32m    232\u001b[0m )\n",
      "\u001b[0;31mOperationalError\u001b[0m: 250003: Failed to get the response. Hanging? method: post, url: https://WLISCTT.us-west-1.snowflakecomputing.com:443/session/v1/login-request?request_id=023840ec-8436-4d6c-8cd8-fd84fa98ebdb&databaseName=PATIENT_TEXTS&schemaName=PUBLIC&warehouse=COMPUTE_WH&roleName=ACCOUNTADMIN&request_guid=691338fa-411a-4dc6-b9c4-cf4bc5963b2c",
      "\nThe above exception was the direct cause of the following exception:\n",
      "\u001b[0;31mOperationalError\u001b[0m                          Traceback (most recent call last)",
      "Cell \u001b[0;32mIn[19], line 3\u001b[0m\n\u001b[1;32m      1\u001b[0m \u001b[39m#!/usr/bin/env python\u001b[39;00m\n\u001b[0;32m----> 3\u001b[0m conn \u001b[39m=\u001b[39m snowflake\u001b[39m.\u001b[39;49mconnector\u001b[39m.\u001b[39;49mconnect(\n\u001b[1;32m      4\u001b[0m     account \u001b[39m=\u001b[39;49m \u001b[39m\"\u001b[39;49m\u001b[39mWLISCTT.XLB22554\u001b[39;49m\u001b[39m\"\u001b[39;49m,\n\u001b[1;32m      5\u001b[0m     user \u001b[39m=\u001b[39;49m \u001b[39m\"\u001b[39;49m\u001b[39mpuneetjain\u001b[39;49m\u001b[39m\"\u001b[39;49m,\n\u001b[1;32m      6\u001b[0m     password \u001b[39m=\u001b[39;49m \u001b[39m\"\u001b[39;49m\u001b[39mtBowz$M136o*YG1d\u001b[39;49m\u001b[39m\"\u001b[39;49m,\n\u001b[1;32m      7\u001b[0m     role \u001b[39m=\u001b[39;49m \u001b[39m\"\u001b[39;49m\u001b[39mACCOUNTADMIN\u001b[39;49m\u001b[39m\"\u001b[39;49m,\n\u001b[1;32m      8\u001b[0m     warehouse \u001b[39m=\u001b[39;49m \u001b[39m\"\u001b[39;49m\u001b[39mCOMPUTE_WH\u001b[39;49m\u001b[39m\"\u001b[39;49m,\n\u001b[1;32m      9\u001b[0m     database\u001b[39m=\u001b[39;49m\u001b[39m\"\u001b[39;49m\u001b[39mPATIENT_TEXTS\u001b[39;49m\u001b[39m\"\u001b[39;49m,\n\u001b[1;32m     10\u001b[0m     schema\u001b[39m=\u001b[39;49m\u001b[39m\"\u001b[39;49m\u001b[39mPUBLIC\u001b[39;49m\u001b[39m\"\u001b[39;49m,\n\u001b[1;32m     11\u001b[0m     region\u001b[39m=\u001b[39;49m\u001b[39m\"\u001b[39;49m\u001b[39mus-west-1\u001b[39;49m\u001b[39m\"\u001b[39;49m,\n\u001b[1;32m     12\u001b[0m     login_timeout\u001b[39m=\u001b[39;49m\u001b[39m60\u001b[39;49m,  \u001b[39m# Increase login timeout (in seconds)\u001b[39;49;00m\n\u001b[1;32m     13\u001b[0m     network_timeout\u001b[39m=\u001b[39;49m\u001b[39m60\u001b[39;49m \n\u001b[1;32m     14\u001b[0m     )\n\u001b[1;32m     16\u001b[0m cur \u001b[39m=\u001b[39m conn\u001b[39m.\u001b[39mcursor()\n\u001b[1;32m     18\u001b[0m \u001b[39m# I have already put the above summary on snowflake, so just going to query it\u001b[39;00m\n",
      "File \u001b[0;32m~/Library/Python/3.9/lib/python/site-packages/snowflake/connector/__init__.py:51\u001b[0m, in \u001b[0;36mConnect\u001b[0;34m(**kwargs)\u001b[0m\n\u001b[1;32m     50\u001b[0m \u001b[39mdef\u001b[39;00m \u001b[39mConnect\u001b[39m(\u001b[39m*\u001b[39m\u001b[39m*\u001b[39mkwargs) \u001b[39m-\u001b[39m\u001b[39m>\u001b[39m SnowflakeConnection:\n\u001b[0;32m---> 51\u001b[0m     \u001b[39mreturn\u001b[39;00m SnowflakeConnection(\u001b[39m*\u001b[39;49m\u001b[39m*\u001b[39;49mkwargs)\n",
      "File \u001b[0;32m~/Library/Python/3.9/lib/python/site-packages/snowflake/connector/connection.py:319\u001b[0m, in \u001b[0;36mSnowflakeConnection.__init__\u001b[0;34m(self, **kwargs)\u001b[0m\n\u001b[1;32m    317\u001b[0m \u001b[39mself\u001b[39m\u001b[39m.\u001b[39mquery_context_cache_size \u001b[39m=\u001b[39m \u001b[39m5\u001b[39m\n\u001b[1;32m    318\u001b[0m \u001b[39mself\u001b[39m\u001b[39m.\u001b[39m__set_error_attributes()\n\u001b[0;32m--> 319\u001b[0m \u001b[39mself\u001b[39;49m\u001b[39m.\u001b[39;49mconnect(\u001b[39m*\u001b[39;49m\u001b[39m*\u001b[39;49mkwargs)\n\u001b[1;32m    320\u001b[0m \u001b[39mself\u001b[39m\u001b[39m.\u001b[39m_telemetry \u001b[39m=\u001b[39m TelemetryClient(\u001b[39mself\u001b[39m\u001b[39m.\u001b[39m_rest)\n\u001b[1;32m    322\u001b[0m \u001b[39m# get the imported modules from sys.modules\u001b[39;00m\n",
      "File \u001b[0;32m~/Library/Python/3.9/lib/python/site-packages/snowflake/connector/connection.py:590\u001b[0m, in \u001b[0;36mSnowflakeConnection.connect\u001b[0;34m(self, **kwargs)\u001b[0m\n\u001b[1;32m    588\u001b[0m         connection_diag\u001b[39m.\u001b[39mgenerate_report()\n\u001b[1;32m    589\u001b[0m \u001b[39melse\u001b[39;00m:\n\u001b[0;32m--> 590\u001b[0m     \u001b[39mself\u001b[39;49m\u001b[39m.\u001b[39;49m__open_connection()\n",
      "File \u001b[0;32m~/Library/Python/3.9/lib/python/site-packages/snowflake/connector/connection.py:860\u001b[0m, in \u001b[0;36mSnowflakeConnection.__open_connection\u001b[0;34m(self)\u001b[0m\n\u001b[1;32m    856\u001b[0m \u001b[39melse\u001b[39;00m:\n\u001b[1;32m    857\u001b[0m     \u001b[39m# okta URL, e.g., https://<account>.okta.com/\u001b[39;00m\n\u001b[1;32m    858\u001b[0m     \u001b[39mself\u001b[39m\u001b[39m.\u001b[39mauth_class \u001b[39m=\u001b[39m AuthByOkta(application\u001b[39m=\u001b[39m\u001b[39mself\u001b[39m\u001b[39m.\u001b[39mapplication)\n\u001b[0;32m--> 860\u001b[0m \u001b[39mself\u001b[39;49m\u001b[39m.\u001b[39;49mauthenticate_with_retry(\u001b[39mself\u001b[39;49m\u001b[39m.\u001b[39;49mauth_class)\n\u001b[1;32m    862\u001b[0m \u001b[39mself\u001b[39m\u001b[39m.\u001b[39m_password \u001b[39m=\u001b[39m \u001b[39mNone\u001b[39;00m  \u001b[39m# ensure password won't persist\u001b[39;00m\n\u001b[1;32m    863\u001b[0m \u001b[39mself\u001b[39m\u001b[39m.\u001b[39mauth_class\u001b[39m.\u001b[39mreset_secrets()\n",
      "File \u001b[0;32m~/Library/Python/3.9/lib/python/site-packages/snowflake/connector/connection.py:1127\u001b[0m, in \u001b[0;36mSnowflakeConnection.authenticate_with_retry\u001b[0;34m(self, auth_instance)\u001b[0m\n\u001b[1;32m   1124\u001b[0m \u001b[39mdef\u001b[39;00m \u001b[39mauthenticate_with_retry\u001b[39m(\u001b[39mself\u001b[39m, auth_instance) \u001b[39m-\u001b[39m\u001b[39m>\u001b[39m \u001b[39mNone\u001b[39;00m:\n\u001b[1;32m   1125\u001b[0m     \u001b[39m# make some changes if needed before real __authenticate\u001b[39;00m\n\u001b[1;32m   1126\u001b[0m     \u001b[39mtry\u001b[39;00m:\n\u001b[0;32m-> 1127\u001b[0m         \u001b[39mself\u001b[39;49m\u001b[39m.\u001b[39;49m_authenticate(auth_instance)\n\u001b[1;32m   1128\u001b[0m     \u001b[39mexcept\u001b[39;00m ReauthenticationRequest \u001b[39mas\u001b[39;00m ex:\n\u001b[1;32m   1129\u001b[0m         \u001b[39m# cached id_token expiration error, we have cleaned id_token and try to authenticate again\u001b[39;00m\n\u001b[1;32m   1130\u001b[0m         logger\u001b[39m.\u001b[39mdebug(\u001b[39m\"\u001b[39m\u001b[39mID token expired. Reauthenticating...: \u001b[39m\u001b[39m%s\u001b[39;00m\u001b[39m\"\u001b[39m, ex)\n",
      "File \u001b[0;32m~/Library/Python/3.9/lib/python/site-packages/snowflake/connector/connection.py:1198\u001b[0m, in \u001b[0;36mSnowflakeConnection._authenticate\u001b[0;34m(self, auth_instance)\u001b[0m\n\u001b[1;32m   1196\u001b[0m \u001b[39mexcept\u001b[39;00m OperationalError \u001b[39mas\u001b[39;00m auth_op:\n\u001b[1;32m   1197\u001b[0m     \u001b[39mif\u001b[39;00m auth_op\u001b[39m.\u001b[39merrno \u001b[39m==\u001b[39m ER_FAILED_TO_CONNECT_TO_DB:\n\u001b[0;32m-> 1198\u001b[0m         \u001b[39mraise\u001b[39;00m auth_op \u001b[39mfrom\u001b[39;00m \u001b[39me\u001b[39;00m\n\u001b[1;32m   1199\u001b[0m     logger\u001b[39m.\u001b[39mdebug(\u001b[39m\"\u001b[39m\u001b[39mContinuing authenticator specific timeout handling\u001b[39m\u001b[39m\"\u001b[39m)\n\u001b[1;32m   1200\u001b[0m     \u001b[39mcontinue\u001b[39;00m\n",
      "File \u001b[0;32m~/Library/Python/3.9/lib/python/site-packages/snowflake/connector/connection.py:1175\u001b[0m, in \u001b[0;36mSnowflakeConnection._authenticate\u001b[0;34m(self, auth_instance)\u001b[0m\n\u001b[1;32m   1173\u001b[0m \u001b[39mwhile\u001b[39;00m \u001b[39mTrue\u001b[39;00m:\n\u001b[1;32m   1174\u001b[0m     \u001b[39mtry\u001b[39;00m:\n\u001b[0;32m-> 1175\u001b[0m         auth_instance\u001b[39m.\u001b[39;49mhandle_timeout(\n\u001b[1;32m   1176\u001b[0m             authenticator\u001b[39m=\u001b[39;49m\u001b[39mself\u001b[39;49m\u001b[39m.\u001b[39;49m_authenticator,\n\u001b[1;32m   1177\u001b[0m             service_name\u001b[39m=\u001b[39;49m\u001b[39mself\u001b[39;49m\u001b[39m.\u001b[39;49mservice_name,\n\u001b[1;32m   1178\u001b[0m             account\u001b[39m=\u001b[39;49m\u001b[39mself\u001b[39;49m\u001b[39m.\u001b[39;49maccount,\n\u001b[1;32m   1179\u001b[0m             user\u001b[39m=\u001b[39;49m\u001b[39mself\u001b[39;49m\u001b[39m.\u001b[39;49muser,\n\u001b[1;32m   1180\u001b[0m             password\u001b[39m=\u001b[39;49m\u001b[39mself\u001b[39;49m\u001b[39m.\u001b[39;49m_password,\n\u001b[1;32m   1181\u001b[0m         )\n\u001b[1;32m   1182\u001b[0m         auth\u001b[39m.\u001b[39mauthenticate(\n\u001b[1;32m   1183\u001b[0m             auth_instance\u001b[39m=\u001b[39mauth_instance,\n\u001b[1;32m   1184\u001b[0m             account\u001b[39m=\u001b[39m\u001b[39mself\u001b[39m\u001b[39m.\u001b[39maccount,\n\u001b[0;32m   (...)\u001b[0m\n\u001b[1;32m   1194\u001b[0m             session_parameters\u001b[39m=\u001b[39m\u001b[39mself\u001b[39m\u001b[39m.\u001b[39m_session_parameters,\n\u001b[1;32m   1195\u001b[0m         )\n\u001b[1;32m   1196\u001b[0m     \u001b[39mexcept\u001b[39;00m OperationalError \u001b[39mas\u001b[39;00m auth_op:\n",
      "File \u001b[0;32m~/Library/Python/3.9/lib/python/site-packages/snowflake/connector/auth/by_plugin.py:219\u001b[0m, in \u001b[0;36mAuthByPlugin.handle_timeout\u001b[0;34m(***failed resolving arguments***)\u001b[0m\n\u001b[1;32m    213\u001b[0m     error \u001b[39m=\u001b[39m OperationalError(\n\u001b[1;32m    214\u001b[0m         msg\u001b[39m=\u001b[39m\u001b[39mf\u001b[39m\u001b[39m\"\u001b[39m\u001b[39mCould not connect to Snowflake backend after \u001b[39m\u001b[39m{\u001b[39;00m\u001b[39mself\u001b[39m\u001b[39m.\u001b[39m_retry_ctx\u001b[39m.\u001b[39mget_current_retry_count()\u001b[39m}\u001b[39;00m\u001b[39m attempt(s).\u001b[39m\u001b[39m\"\u001b[39m\n\u001b[1;32m    215\u001b[0m         \u001b[39m\"\u001b[39m\u001b[39mAborting\u001b[39m\u001b[39m\"\u001b[39m,\n\u001b[1;32m    216\u001b[0m         errno\u001b[39m=\u001b[39mER_FAILED_TO_CONNECT_TO_DB,\n\u001b[1;32m    217\u001b[0m     )\n\u001b[1;32m    218\u001b[0m     \u001b[39mself\u001b[39m\u001b[39m.\u001b[39m_retry_ctx\u001b[39m.\u001b[39mreset()\n\u001b[0;32m--> 219\u001b[0m     \u001b[39mraise\u001b[39;00m error\n\u001b[1;32m    220\u001b[0m \u001b[39melse\u001b[39;00m:\n\u001b[1;32m    221\u001b[0m     logger\u001b[39m.\u001b[39mdebug(\n\u001b[1;32m    222\u001b[0m         \u001b[39mf\u001b[39m\u001b[39m\"\u001b[39m\u001b[39mHit connection timeout, attempt number \u001b[39m\u001b[39m{\u001b[39;00m\u001b[39mself\u001b[39m\u001b[39m.\u001b[39m_retry_ctx\u001b[39m.\u001b[39mget_current_retry_count()\u001b[39m}\u001b[39;00m\u001b[39m.\u001b[39m\u001b[39m\"\u001b[39m\n\u001b[1;32m    223\u001b[0m         \u001b[39m\"\u001b[39m\u001b[39m Will retry in a bit...\u001b[39m\u001b[39m\"\u001b[39m\n\u001b[1;32m    224\u001b[0m     )\n",
      "\u001b[0;31mOperationalError\u001b[0m: 250001: Could not connect to Snowflake backend after 1 attempt(s).Aborting"
     ]
    }
   ],
   "source": [
    "#!/usr/bin/env python\n",
    "\n",
    "conn = snowflake.connector.connect(\n",
    "    account = \"WLISCTT.XLB22554\",\n",
    "    user = \"puneetjain\",\n",
    "    password = \"tBowz$M136o*YG1d\",\n",
    "    role = \"ACCOUNTADMIN\",\n",
    "    warehouse = \"COMPUTE_WH\",\n",
    "    database=\"PATIENT_TEXTS\",\n",
    "    schema=\"PUBLIC\",\n",
    "    region=\"us-west-2\",\n",
    "    login_timeout=60,  # Increase login timeout (in seconds)\n",
    "    network_timeout=60 \n",
    "    )\n",
    "\n",
    "cur = conn.cursor()\n",
    "\n",
    "# I have already put the above summary on snowflake, so just going to query it\n",
    "cur.execute(\"SELECT * FROM PATIENT_TEXTS.PUBLIC.PATIENTSUMMARY LIMIT 1\")\n",
    "\n",
    "row = cur.fetchone()\n",
    "print(row)\n",
    "\n",
    "cur.close()\n",
    "conn.close()\n"
   ]
  },
  {
   "cell_type": "code",
   "execution_count": 20,
   "metadata": {},
   "outputs": [],
   "source": [
    "#!/usr/bin/env python\n",
    "import snowflake.connector\n",
    "import pandas as pd\n",
    "from snowflake.connector.pandas_tools import write_pandas\n",
    "\n",
    "ctx = snowflake.connector.connect(\n",
    "    user='puneetjain',\n",
    "    password='tBowz$M136o*YG1d',\n",
    "    account='XLB22554',\n",
    "    region='us-west-2',\n",
    "    warehouse='COMPUTE_WH',\n",
    "  \tdatabase='PATIENT_TEXTS',\n",
    "    role = \"ACCOUNTADMIN\",\n",
    " \tschema='PUBLIC'\n",
    "    )\n",
    "cs = ctx.cursor()\n",
    "# try:\n",
    "\t# daf = {'BRAND': ['Apple','Samsung','Apple'],\n",
    "        # 'MODEL': ['iPhone12','Note 10','iPhone11'],\n",
    "        # 'SPACE_GB': [128,256,64],\n",
    "        # 'COLOR': ['Black','Mirror','Red']\n",
    "        # }\n",
    "\t# df = pd.DataFrame(daf, columns = ['BRAND', 'MODEL','SPACE_GB','COLOR'])\n",
    "# cs = ctx.cursor()\n",
    "cs.execute(\"SELECT * FROM PATIENT_TEXTS.PUBLIC.PATIENTSUMMARY LIMIT 1\")\n",
    "cs.close()\n",
    "\t# success, nchunks, nrows, _ = write_pandas(ctx, df, 'DEMO')\n",
    "# finally:\n",
    "    # cs.close()"
   ]
  }
 ],
 "metadata": {
  "kernelspec": {
   "display_name": "Python 3",
   "language": "python",
   "name": "python3"
  },
  "language_info": {
   "codemirror_mode": {
    "name": "ipython",
    "version": 3
   },
   "file_extension": ".py",
   "mimetype": "text/x-python",
   "name": "python",
   "nbconvert_exporter": "python",
   "pygments_lexer": "ipython3",
   "version": "3.9.6"
  },
  "orig_nbformat": 4
 },
 "nbformat": 4,
 "nbformat_minor": 2
}
