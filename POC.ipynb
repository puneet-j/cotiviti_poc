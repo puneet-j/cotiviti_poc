{
 "cells": [
  {
   "cell_type": "code",
   "execution_count": 33,
   "metadata": {},
   "outputs": [],
   "source": [
    "import pandas as pd\n",
    "import os\n",
    "import glob\n",
    "import snowflake.connector\n",
    "from IPython.display import display, Markdown"
   ]
  },
  {
   "attachments": {},
   "cell_type": "markdown",
   "metadata": {},
   "source": [
    "Read all files"
   ]
  },
  {
   "cell_type": "code",
   "execution_count": null,
   "metadata": {},
   "outputs": [],
   "source": [
    "\n",
    "# Define the path to your data\n",
    "data_path = \"./\"\n",
    "\n",
    "# Load all .csv.gz files in the 'hosp' folder\n",
    "hosp_files = glob.glob(os.path.join(data_path, 'hosp/*.csv.gz'))\n",
    "\n",
    "# Create a dictionary of DataFrames\n",
    "hosp_dfs = {os.path.basename(f): pd.read_csv(f) for f in hosp_files}\n",
    "# # Now you can access each DataFrame by the filename, example: print(hosp_dfs['admissions.csv.gz'].head())\n",
    "\n",
    "\n",
    "# Load all .csv.gz files in the 'hosp' folder\n",
    "icu_files = glob.glob(os.path.join(data_path, 'icu/*.csv.gz'))\n",
    "\n",
    "# Create a dictionary of DataFrames\n",
    "icu_dfs = {os.path.basename(f): pd.read_csv(f) for f in icu_files}\n",
    "# # Now you can access each DataFrame by the filename, example: print(icu_dfs['icustays.csv.gz'].head())"
   ]
  },
  {
   "attachments": {},
   "cell_type": "markdown",
   "metadata": {},
   "source": [
    "**Proposed Solution**\n"
   ]
  },
  {
   "attachments": {},
   "cell_type": "markdown",
   "metadata": {},
   "source": [
    "MIMIC-IV Data pre-processingL generating text from all data associated with a patient."
   ]
  },
  {
   "cell_type": "code",
   "execution_count": 35,
   "metadata": {},
   "outputs": [],
   "source": [
    "\n",
    "def generate_summary_from_csv(patient_id, df, key_column='subject_id'):\n",
    "    \"\"\"\n",
    "    Generates a summary for a given patient based on the information available in a single DataFrame.\n",
    "    \n",
    "    Parameters:\n",
    "    - patient_id: The ID of the patient.\n",
    "    - df: The DataFrame containing data for the patient.\n",
    "    - key_column: The column to use as a key for filtering the DataFrame (default is 'subject_id').\n",
    "    \n",
    "    Returns:\n",
    "    - A summary string.\n",
    "    \"\"\"\n",
    "    # Check if the key_column exists in the DataFrame\n",
    "    if key_column not in df.columns:\n",
    "        return None\n",
    "    \n",
    "    # Filter the DataFrame for the specific patient\n",
    "    patient_data = df[df[key_column] == patient_id]\n",
    "    \n",
    "    if patient_data.empty:\n",
    "        return None\n",
    "    \n",
    "    row = patient_data.iloc[0]  # Take the first row for simplicity\n",
    "    \n",
    "    summary_parts = []\n",
    "    for column_name, value in row.items():\n",
    "        if pd.notna(value):\n",
    "            summary_parts.append(f\"{column_name}: {value}\")\n",
    "    \n",
    "    return \". \".join(summary_parts) + \".\"\n",
    "\n",
    "def generate_aggregated_summary(patient_id, hosp_dfs, icu_dfs):\n",
    "    summary_parts = []\n",
    "    \n",
    "    # Generate summaries from hospital DataFrames\n",
    "    for file_name, df in hosp_dfs.items():\n",
    "        key_column = 'subject_id' if 'subject_id' in df.columns else 'hadm_id'\n",
    "        summary = generate_summary_from_csv(patient_id, df, key_column=key_column)\n",
    "        if summary:\n",
    "            summary_parts.append(summary)\n",
    "    \n",
    "    # Generate summaries from ICU DataFrames\n",
    "    for file_name, df in icu_dfs.items():\n",
    "        key_column = 'subject_id' if 'subject_id' in df.columns else 'stay_id'\n",
    "        summary = generate_summary_from_csv(patient_id, df, key_column=key_column)\n",
    "        if summary:\n",
    "            summary_parts.append(summary)\n",
    "    \n",
    "    return \" \".join(summary_parts)\n",
    "\n",
    "# Get a list of all unique patient IDs (from any DataFrame, such as patients.csv.gz)\n",
    "patient_ids = hosp_dfs['patients.csv.gz']['subject_id'].unique()\n",
    "\n",
    "# Dictionary to store the summaries\n",
    "all_patient_summaries = {}\n",
    "\n",
    "# Generate summaries for each patient\n",
    "for patient_id in patient_ids:\n",
    "    summary = generate_aggregated_summary(patient_id, hosp_dfs, icu_dfs)\n",
    "    all_patient_summaries[patient_id] = summary\n",
    "    # break\n",
    "\n",
    "# Convert to DataFrame for easy handling\n",
    "summary_df = pd.DataFrame(list(all_patient_summaries.items()), columns=['subject_id', 'patient_summary'])\n",
    "# print(summary_df['subject_id'].values[0], ' : ', summary_df['patient_summary'].values[0])\n",
    "summary_df.to_csv('to_sf.csv')\n"
   ]
  },
  {
   "attachments": {},
   "cell_type": "markdown",
   "metadata": {},
   "source": [
    "**Snowflake Connection** \n",
    "\n",
    "I have credentials listed here in case you want to go into this test snowflake instance and explore it."
   ]
  },
  {
   "cell_type": "code",
   "execution_count": 36,
   "metadata": {},
   "outputs": [
    {
     "name": "stdout",
     "output_type": "stream",
     "text": [
      "(0, '10014729', 'poe_id: 10014729-590. poe_seq: 590. subject_id: 10014729. hadm_id: 23300884. ordertime: 2125-03-26 09:02:16. order_type: Medications. transaction_type: New. order_provider_id: P00AEX. order_status: Inactive. poe_id: 10014729-518. poe_seq: 518. subject_id: 10014729. field_name: Admit to. field_value: Surgery. subject_id: 10014729. gender: F. anchor_age: 21. anchor_year: 2125. anchor_year_group: 2011 - 2013. subject_id: 10014729. hadm_id: 23300884. seq_num: 3. icd_code: 99832. icd_version: 9. subject_id: 10014729. hadm_id: 23300884. pharmacy_id: 8661097. poe_id: 10014729-356. poe_seq: 356.0. order_provider_id: P98O2Z. starttime: 2125-03-19 20:00:00. stoptime: 2125-03-20 18:00:00. drug_type: MAIN. drug: Insulin. formulary_drug_cd: INRHI. gsn: 001723. ndc: 2821501.0. prod_strength: 100 Units / mL - 10 mL Vial. dose_val_rx: 0. dose_unit_rx: UNIT. form_val_disp: 0. form_unit_disp: mL. route: SC. subject_id: 10014729. hadm_id: 28889419. drg_type: HCFA. drg_code: 908. description: OTHER O.R. PROCEDURES FOR INJURIES W CC. subject_id: 10014729. hadm_id: 28889419.0. transfer_id: 36847815. eventtype: discharge. intime: 2125-03-06 14:26:51. subject_id: 10014729. hadm_id: 23300884. admittime: 2125-03-19 16:58:00. dischtime: 2125-03-28 13:37:00. admission_type: EW EMER.. admit_provider_id: P76K54. admission_location: EMERGENCY ROOM. discharge_location: HOME HEALTH CARE. insurance: Other. language: ENGLISH. marital_status: SINGLE. race: WHITE - OTHER EUROPEAN. edregtime: 2125-03-19 12:36:00. edouttime: 2125-03-19 18:45:00. hospital_expire_flag: 0. labevent_id: 187725. subject_id: 10014729. hadm_id: 23300884.0. specimen_id: 47191659. itemid: 51009. charttime: 2125-03-25 10:00:00. storetime: 2125-03-25 10:54:00. value: 13.5. valuenum: 13.5. valueuom: ug/mL. ref_range_lower: 10.0. ref_range_upper: 20.0. priority: ROUTINE. subject_id: 10014729. hadm_id: 28889419. pharmacy_id: 8933330. poe_id: 10014729-35. starttime: 2125-02-27 20:00:00. stoptime: 2125-02-27 17:00:00. medication: Chlorhexidine Gluconate 0.12% Oral Rinse. proc_type: Unit Dose. status: Discontinued. entertime: 2125-02-27 16:30:43. verifiedtime: 2125-02-27 16:30:43. route: ORAL. frequency: BID. disp_sched: 08, 20. doses_per_24_hrs: 2.0. duration_interval: Ongoing. expiration_value: 36.0. expiration_unit: Hours. dispensation: OmniCell. subject_id: 10014729. hadm_id: 23300884. seq_num: 4. chartdate: 2125-03-23. icd_code: 3897. icd_version: 9. subject_id: 10014729. hadm_id: 23300884. transfertime: 2125-03-20 10:58:51. prev_service: VSURG. curr_service: CSURG. subject_id: 10014729. chartdate: 2125-02-22. seq_num: 1. result_name: Height (Inches). result_value: 65. microevent_id: 5229. subject_id: 10014729. micro_specimen_id: 2551368. order_provider_id: P38GCF. chartdate: 2125-02-22 00:00:00. charttime: 2125-02-22 11:23:00. spec_itemid: 70059. spec_type_desc: Staph aureus swab. test_seq: 1. storedate: 2125-02-24 00:00:00. storetime: 2125-02-24 08:38:00. test_itemid: 90198. test_name: Staph aureus Screen. org_itemid: 80293.0. org_name: POSITIVE FOR METHICILLIN RESISTANT STAPH AUREUS. isolate_num: 1.0. subject_id: 10014729. hadm_id: 28889419. stay_id: 33558396. caregiver_id: 80393. charttime: 2125-02-28 04:10:00. storetime: 2125-02-28 04:10:00. itemid: 224296. value: 2125-02-27 00:00:00. valueuom: Date. warning: 0. subject_id: 10014729. hadm_id: 28889419. stay_id: 33558396. caregiver_id: 53913. starttime: 2125-02-27 14:45:00. endtime: 2125-02-27 16:00:00. storetime: 2125-02-27 15:29:00. itemid: 226060. amount: 29.999998211860657. amountuom: Kcal. rate: 5517.24100112915. rateuom: mcg/kg/min. orderid: 6089990. linkorderid: 6089990. statusdescription: ChangeDose/Rate. originalamount: 0. originalrate: 109.99999237060548. subject_id: 10014729. hadm_id: 28889419. stay_id: 33558396. caregiver_id: 53913. starttime: 2125-02-27 20:06:00. endtime: 2125-02-27 21:06:00. storetime: 2125-02-27 20:06:00. itemid: 221456. amount: 2.0000001043081284. amountuom: grams. orderid: 1673712. linkorderid: 1673712. ordercategoryname: 02-Fluids (Crystalloids). secondaryordercategoryname: Additive (Crystalloid). ordercomponenttypedescription: Additives                                         Ampoule                                           . ordercategorydescription: Continuous IV. patientweight: 72.5. totalamount: 100.0. totalamountuom: ml. isopenbag: 0. continueinnextdept: 0. statusdescription: FinishedRunning. originalamount: 2.0. originalrate: 0.0333333350718021. subject_id: 10014729. hadm_id: 28889419. stay_id: 33558396. caregiver_id: 80743.0. starttime: 2125-02-27 14:45:00. endtime: 2125-02-27 19:05:00. storetime: 2125-02-27 19:07:00. itemid: 225792. value: 260.0. valueuom: min. orderid: 4513647. linkorderid: 4513647. ordercategoryname: Ventilation. ordercategorydescription: ContinuousProcess. patientweight: 72.5. isopenbag: 1. continueinnextdept: 0. statusdescription: FinishedRunning. ORIGINALAMOUNT: 260.0. ORIGINALRATE: 1. subject_id: 10014729. hadm_id: 28889419. stay_id: 33558396. caregiver_id: 6770.0. charttime: 2125-03-01 00:00:00. storetime: 2125-03-01 05:31:00. itemid: 223782. value: Constant. warning: 0.0. subject_id: 10014729. hadm_id: 28889419. stay_id: 33558396. first_careunit: Cardiac Vascular Intensive Care Unit (CVICU). last_careunit: Cardiac Vascular Intensive Care Unit (CVICU). intime: 2125-02-27 10:03:08. outtime: 2125-03-01 21:21:37. los: 2.4711689814814815. subject_id: 10014729. hadm_id: 28889419. stay_id: 33558396. caregiver_id: 80393. charttime: 2125-02-28 03:00:00. storetime: 2125-02-28 02:53:00. itemid: 226559. value: 150. valueuom: ml.')\n"
     ]
    }
   ],
   "source": [
    "conn = snowflake.connector.connect(\n",
    "    account = \"ibb98831\",\n",
    "    user = \"puneetjain\",\n",
    "    password = \"tBowz$M136o*YG1d\",\n",
    "    role = \"ACCOUNTADMIN\",\n",
    "    warehouse = \"COMPUTE_WH\",\n",
    "    database=\"PATIENT_TEXTS\",\n",
    "    schema=\"PUBLIC\",\n",
    "    region=\"us-west-2\"\n",
    "    )\n",
    "\n",
    "cur = conn.cursor()\n",
    "\n",
    "# I have already put the above summary on snowflake, so just going to query it\n",
    "cur.execute(\"SELECT * FROM PATIENT_TEXTS.PUBLIC.PATIENTSUMMARY LIMIT 1\")\n",
    "\n",
    "row = cur.fetchone()\n",
    "print(row)\n"
   ]
  },
  {
   "attachments": {},
   "cell_type": "markdown",
   "metadata": {},
   "source": [
    "Now let's look at the questions we ask, and their answers.\n",
    "---"
   ]
  },
  {
   "attachments": {},
   "cell_type": "markdown",
   "metadata": {},
   "source": [
    "**What is the medication history of the patient from the following**"
   ]
  },
  {
   "cell_type": "code",
   "execution_count": 37,
   "metadata": {},
   "outputs": [
    {
     "data": {
      "text/markdown": [
       "Based on the provided data, the patient's medication history includes:\n",
       "\n",
       "1. **Insulin**:\n",
       "\t* Order date: 2125-03-19 20:00:00\n",
       "\t* Stop date: 2125-03-20 18:00:00\n",
       "\t* Dose: 0 units ( unclear, possibly an error)\n",
       "\t* Route: Subcutaneous (SC)\n",
       "2. **Chlorhexidine Gluconate 0.12% Oral Rinse**:\n",
       "\t* Order date: 2125-02-27 16:30:43\n",
       "\t* Start date: 2125-02-27 20:00:00\n",
       "\t* Stop date: 2125-02-27 17:00:00 ( unclear, possibly an error)\n",
       "\t* Frequency: Twice a day (BID)\n",
       "\t* Route: Oral\n",
       "\t* Status: Discontinued\n",
       "\n",
       "Additionally, there are mentions of other medications and treatments, such as:\n",
       "\n",
       "* A medication with an order ID of 6089990, which had a change in dose or rate.\n",
       "* A fluid (crystalloid) with an order ID of 1673712, which was administered continuously.\n",
       "* A ventilation treatment with an order ID of 4513647, which was a continuous process.\n",
       "\n",
       "Please note that the data appears to be incomplete, and some information may be missing or incorrect. A thorough review of the patient's medical records would be necessary to obtain an accurate and comprehensive medication history."
      ],
      "text/plain": [
       "<IPython.core.display.Markdown object>"
      ]
     },
     "metadata": {},
     "output_type": "display_data"
    }
   ],
   "source": [
    "\n",
    "query = \"\"\"select SNOWFLAKE.CORTEX.COMPLETE(\n",
    "    'llama3.1-405b', CONCAT('What is the medication history of the patient from the following: ', C3)) FROM PATIENT_TEXTS.PUBLIC.PATIENTSUMMARY LIMIT 1;\"\"\"\n",
    "\n",
    "cur.execute(query)\n",
    "\n",
    "row = cur.fetchone()\n",
    "display(Markdown(row[0]))"
   ]
  },
  {
   "attachments": {},
   "cell_type": "markdown",
   "metadata": {},
   "source": [
    "**What are the top 3 risk factors for this patient based on this clinical history**"
   ]
  },
  {
   "cell_type": "code",
   "execution_count": 38,
   "metadata": {},
   "outputs": [
    {
     "data": {
      "text/markdown": [
       "Based on the provided clinical history, the top 3 risk factors for this patient are:\n",
       "\n",
       "1. **Methicillin-Resistant Staphylococcus aureus (MRSA) colonization**: The patient has a positive MRSA screen, which increases the risk of developing MRSA infections, particularly in a hospital setting.\n",
       "2. **Recent surgery**: The patient was admitted to the surgery department and had a recent surgical procedure, which increases the risk of post-operative complications, such as infection, bleeding, or respiratory problems.\n",
       "3. **Insulin therapy**: The patient is receiving insulin, which suggests that they have diabetes or hyperglycemia. This increases the risk of developing complications such as diabetic ketoacidosis, hypoglycemia, or wound infections, particularly in the post-operative period.\n",
       "\n",
       "These risk factors are not exhaustive, and a comprehensive assessment of the patient's medical history, laboratory results, and current condition would be necessary to identify all potential risk factors. However, based on the provided information, these three factors appear to be significant concerns for this patient."
      ],
      "text/plain": [
       "<IPython.core.display.Markdown object>"
      ]
     },
     "metadata": {},
     "output_type": "display_data"
    }
   ],
   "source": [
    "query = \"\"\"select SNOWFLAKE.CORTEX.COMPLETE(\n",
    "    'llama3.1-405b', CONCAT('What are the top 3 risk factors for this patient based on this clinical history: ', C3)) FROM PATIENT_TEXTS.PUBLIC.PATIENTSUMMARY LIMIT 1;\"\"\"\n",
    "\n",
    "cur.execute(query)\n",
    "\n",
    "row = cur.fetchone()\n",
    "display(Markdown(row[0]))"
   ]
  },
  {
   "attachments": {},
   "cell_type": "markdown",
   "metadata": {},
   "source": [
    "**What is the hospitalization history of the patient**"
   ]
  },
  {
   "cell_type": "code",
   "execution_count": 39,
   "metadata": {},
   "outputs": [
    {
     "data": {
      "text/markdown": [
       "Based on the provided data, here is a short summary of the hospitalization history of the patient with subject_id 10014729:\n",
       "\n",
       "**Admission 1 (hadm_id: 28889419)**\n",
       "\n",
       "* Admission date: 2125-02-27\n",
       "* Admission location: Not specified\n",
       "* Discharge date: Not specified (but a discharge event is mentioned with eventtype: discharge)\n",
       "* Length of stay (LOS): 2.47 days (in the Cardiac Vascular Intensive Care Unit (CVICU))\n",
       "* Diagnosis: Not explicitly mentioned, but the patient had a Staph aureus screen with a positive result for methicillin-resistant Staph aureus (MRSA)\n",
       "* Procedures/Treatments:\n",
       "\t+ Received Chlorhexidine Gluconate 0.12% Oral Rinse\n",
       "\t+ Had a continuous IV with additives\n",
       "\t+ Was on ventilation\n",
       "\n",
       "**Admission 2 (hadm_id: 23300884)**\n",
       "\n",
       "* Admission date: 2125-03-19\n",
       "* Admission location: Emergency Room\n",
       "* Admission type: Emergency\n",
       "* Discharge date: 2125-03-28\n",
       "* Discharge location: Home Health Care\n",
       "* Length of stay (LOS): Not explicitly mentioned\n",
       "* Diagnosis: Not explicitly mentioned, but the patient had ICD-9 codes 99832 and 3897\n",
       "* Procedures/Treatments:\n",
       "\t+ Received Insulin\n",
       "\t+ Had a surgery (based on the \"Admit to\" field value: Surgery)\n",
       "\t+ Was transferred from VSURG to CSURG\n",
       "\n",
       "Please note that this summary is based on a limited subset of data and may not be comprehensive or entirely accurate."
      ],
      "text/plain": [
       "<IPython.core.display.Markdown object>"
      ]
     },
     "metadata": {},
     "output_type": "display_data"
    }
   ],
   "source": [
    "query = \"\"\"select SNOWFLAKE.CORTEX.COMPLETE(\n",
    "    'llama3.1-405b', CONCAT('Give me a short summary of the hospitalization history of the patient from the following: ', C3)) FROM PATIENT_TEXTS.PUBLIC.PATIENTSUMMARY LIMIT 1;\"\"\"\n",
    "\n",
    "cur.execute(query)\n",
    "\n",
    "row = cur.fetchone()\n",
    "display(Markdown(row[0]))"
   ]
  },
  {
   "attachments": {},
   "cell_type": "markdown",
   "metadata": {},
   "source": [
    "**What are the demographics and personal details of the patient**"
   ]
  },
  {
   "cell_type": "code",
   "execution_count": 40,
   "metadata": {},
   "outputs": [
    {
     "data": {
      "text/markdown": [
       "Based on the provided data, here are the demographics and personal details of the patient:\n",
       "\n",
       "1. **Subject ID**: 10014729\n",
       "2. **Gender**: Female (F)\n",
       "3. **Age**: 21 (as of the anchor year 2125)\n",
       "4. **Anchor Year Group**: 2011-2013\n",
       "5. **Marital Status**: Single\n",
       "6. **Race**: White - Other European\n",
       "7. **Language**: English\n",
       "8. **Height**: 65 inches (approximately 5 feet 5 inches)\n",
       "9. **Weight**: 72.5 (units not specified, but likely in kilograms or pounds)\n",
       "\n",
       "Please note that some of these details may be mentioned multiple times in the data, but I have only extracted each piece of information once. Additionally, some information, such as the patient's name, date of birth, and contact information, is not present in the provided data."
      ],
      "text/plain": [
       "<IPython.core.display.Markdown object>"
      ]
     },
     "metadata": {},
     "output_type": "display_data"
    }
   ],
   "source": [
    "query = \"\"\"select SNOWFLAKE.CORTEX.COMPLETE(\n",
    "    'llama3.1-405b', CONCAT('What are the demographics and personal details of the patient from the following: ', C3)) FROM PATIENT_TEXTS.PUBLIC.PATIENTSUMMARY LIMIT 1;\"\"\"\n",
    "\n",
    "cur.execute(query)\n",
    "\n",
    "row = cur.fetchone()\n",
    "display(Markdown(row[0]))"
   ]
  },
  {
   "cell_type": "code",
   "execution_count": 41,
   "metadata": {},
   "outputs": [],
   "source": [
    "cur.close()\n",
    "conn.close()"
   ]
  },
  {
   "attachments": {},
   "cell_type": "markdown",
   "metadata": {},
   "source": [
    "**Now, let's look at the other ChargeMaster data**\n",
    "---"
   ]
  },
  {
   "cell_type": "code",
   "execution_count": 42,
   "metadata": {},
   "outputs": [
    {
     "name": "stdout",
     "output_type": "stream",
     "text": [
      "(49230767, 12, '30000323', 'HC COMPL CBC W/PLT W/AUTOM DIFF', '135', 1301071, '0', Decimal('1.00000'), datetime.datetime(2021, 10, 1, 0, 0), datetime.datetime(9999, 12, 31, 0, 0), None)\n"
     ]
    }
   ],
   "source": [
    "conn = snowflake.connector.connect(\n",
    "    account = \"ibb98831\",\n",
    "    user = \"puneetjain\",\n",
    "    password = \"tBowz$M136o*YG1d\",\n",
    "    role = \"ACCOUNTADMIN\",\n",
    "    warehouse = \"COMPUTE_WH\",\n",
    "    database=\"HOSPITAL_CHARGEMASTER_DATA\",\n",
    "    schema=\"ISTG\",\n",
    "    region=\"us-west-2\"\n",
    "    )\n",
    "\n",
    "cur = conn.cursor()\n",
    "\n",
    "cur.execute(\"select * from HOSPITAL_CHARGEMASTER_DATA.ISTG.CHARGE_MASTER limit 1;\")\n",
    "\n",
    "row = cur.fetchone()\n",
    "print(row)"
   ]
  },
  {
   "attachments": {},
   "cell_type": "markdown",
   "metadata": {},
   "source": [
    "Let's look at some of the questions we asked from it"
   ]
  },
  {
   "attachments": {},
   "cell_type": "markdown",
   "metadata": {},
   "source": [
    "**What are the patients previous diagnoses and future risk factors from this chronological list of diagnoses**"
   ]
  },
  {
   "cell_type": "code",
   "execution_count": 43,
   "metadata": {},
   "outputs": [
    {
     "data": {
      "text/markdown": [
       "What a complex medical history!\n",
       "\n",
       "From this chronological list of diagnoses, we can infer the patient's previous diagnoses and future risk factors as follows:\n",
       "\n",
       "**Previous Diagnoses:**\n",
       "\n",
       "1. **Diffuse large B-cell lymphoma** (twice mentioned, indicating a relapse or ongoing treatment): a type of non-Hodgkin lymphoma, a cancer of the immune system.\n",
       "2. **Immunodeficiency due to drugs**: likely a result of chemotherapy or immunosuppressive therapy for lymphoma.\n",
       "3. **Antineoplastic chemotherapy-induced pancytopenia**: a condition where chemotherapy has caused a decrease in blood cells, including red blood cells, white blood cells, and platelets.\n",
       "4. **Syndrome of inappropriate secretion of antidiuretic hormone (SIADH)**: a condition where the body produces too much antidiuretic hormone, leading to water retention and electrolyte imbalances.\n",
       "5. **Aphasia**: a condition affecting language processing, possibly related to the lymphoma or its treatment.\n",
       "6. **Encephalopathy**: a condition affecting brain function, possibly related to the lymphoma, its treatment, or other factors.\n",
       "7. **Unspecified severe protein-calorie malnutrition**: a condition indicating inadequate nutrition, possibly related to the lymphoma, its treatment, or other factors.\n",
       "8. **Depression**: a mental health condition that may be related to the patient's medical history or other factors.\n",
       "9. **Adult failure to thrive**: a condition indicating inadequate nutrition, weight loss, or other factors affecting overall health.\n",
       "10. **COVID-19**: the patient has a history of COVID-19 infection.\n",
       "\n",
       "**Future Risk Factors:**\n",
       "\n",
       "1. **Infections**: due to immunodeficiency and pancytopenia, the patient is at increased risk of developing infections.\n",
       "2. **Bleeding or thrombotic events**: due to coagulation defects and pancytopenia, the patient is at increased risk of bleeding or blood clotting disorders.\n",
       "3. **Cardiovascular events**: due to hypertension, hypercholesterolemia, and atrial fibrillation, the patient is at increased risk of cardiovascular events, such as heart attacks or strokes.\n",
       "4. **Malnutrition and weight loss**: due to the history of severe protein-calorie malnutrition and adult failure to thrive, the patient is at increased risk of malnutrition and weight loss.\n",
       "5. **Neurological complications**: due to the history of encephalopathy, aphasia, and immune effector cell-associated neurotoxicity syndrome, the patient is at increased risk of neurological complications.\n",
       "6. **Secondary cancers**: due to the history of lymphoma and radiation therapy, the patient is at increased risk of developing secondary cancers.\n",
       "\n",
       "Please note that this is not an exhaustive list, and the patient's actual risk factors may be more extensive. A thorough medical evaluation and ongoing monitoring are essential to manage these conditions and prevent potential complications."
      ],
      "text/plain": [
       "<IPython.core.display.Markdown object>"
      ]
     },
     "metadata": {},
     "output_type": "display_data"
    }
   ],
   "source": [
    "query = \"\"\"select RECORD_ID,SNOWFLAKE.CORTEX.COMPLETE('llama3.1-405b', CONCAT('What are the patients previous diagnoses and future risk factors from this chronological list of diagnoses: ', DESC)) FROM (\n",
    "select RECORD_ID, LISTAGG(ICD_DIAGNOSIS_DESC, ', ')\n",
    "WITHIN GROUP (ORDER BY DIAGNOSIS_ORDER  DESC) as \"DESC\"\n",
    "  FROM HOSPITAL_CHARGEMASTER_DATA.ISTG.DIAGNOSES \n",
    "  group by RECORD_ID \n",
    "   limit 1);\"\"\"\n",
    "cur.execute(query)\n",
    "\n",
    "row = cur.fetchone()\n",
    "display(Markdown(row[1]))"
   ]
  },
  {
   "attachments": {},
   "cell_type": "markdown",
   "metadata": {},
   "source": [
    "**Assign a risk score to the patient - with 0 being low risk and 100 being very high risk**"
   ]
  },
  {
   "cell_type": "code",
   "execution_count": 44,
   "metadata": {},
   "outputs": [],
   "source": [
    "query = \"\"\"select RECORD_ID,SNOWFLAKE.CORTEX.COMPLETE('llama3.1-405b', CONCAT('Assign a risk score to the patient - with 0 being low risk and 100 being very high risk: ', DESC)) FROM (\n",
    "select RECORD_ID, LISTAGG(ICD_DIAGNOSIS_DESC, ', ')\n",
    "WITHIN GROUP (ORDER BY DIAGNOSIS_ORDER  DESC) as \"DESC\"\n",
    "  FROM HOSPITAL_CHARGEMASTER_DATA.ISTG.DIAGNOSES \n",
    "  group by RECORD_ID\n",
    "   limit 3 );\"\"\"\n",
    "cur.execute(query)\n",
    "\n",
    "row = cur.fetchall()\n"
   ]
  },
  {
   "cell_type": "code",
   "execution_count": 45,
   "metadata": {},
   "outputs": [
    {
     "name": "stdout",
     "output_type": "stream",
     "text": [
      "patient: \n"
     ]
    },
    {
     "data": {
      "text/markdown": [
       "1895628278"
      ],
      "text/plain": [
       "<IPython.core.display.Markdown object>"
      ]
     },
     "metadata": {},
     "output_type": "display_data"
    },
    {
     "name": "stdout",
     "output_type": "stream",
     "text": [
      "risk: \n"
     ]
    },
    {
     "data": {
      "text/markdown": [
       "Based on the provided medical conditions, I would assign a risk score of 92 to this patient. Here's a breakdown of the factors that contribute to this score:\n",
       "\n",
       "**High-risk conditions:**\n",
       "\n",
       "1. **Diffuse large B-cell lymphoma** (twice mentioned): This is an aggressive type of cancer that significantly increases the patient's risk.\n",
       "2. **Immunodeficiency due to drugs**: This condition compromises the patient's immune system, making them more susceptible to infections and other complications.\n",
       "3. **Antineoplastic chemotherapy induced pancytopenia**: This condition indicates a severe decrease in blood cells, which can lead to infections, bleeding, and anemia.\n",
       "4. **Cytokine release syndrome, grade 1**: Although grade 1 is considered mild, this condition can still lead to serious complications, such as organ failure.\n",
       "5. **Encephalopathy, unspecified**: This condition indicates brain damage or disease, which can significantly impact the patient's quality of life and increase their risk.\n",
       "6. **Unspecified severe protein-calorie malnutrition**: Malnutrition can weaken the patient's immune system and increase their risk of complications.\n",
       "7. **Adult failure to thrive**: This condition indicates a decline in the patient's overall health and well-being.\n",
       "\n",
       "**Moderate-risk conditions:**\n",
       "\n",
       "1. **Delirium due to known physiological condition**: Delirium can increase the patient's risk of falls, injuries, and other complications.\n",
       "2. **Aphasia**: This condition can lead to communication difficulties and increase the patient's risk of misunderstandings and errors.\n",
       "3. **Unspecified atrial fibrillation**: This condition can increase the patient's risk of stroke and other cardiovascular complications.\n",
       "4. **Essential (primary) hypertension**: Uncontrolled hypertension can lead to cardiovascular complications.\n",
       "5. **Pure hypercholesterolemia, unspecified**: High cholesterol can increase the patient's risk of cardiovascular disease.\n",
       "\n",
       "**Low-risk conditions:**\n",
       "\n",
       "1. **Fever, unspecified**: While fever can be a concern, it is a relatively common and treatable condition.\n",
       "2. **Constipation, unspecified**: This condition is typically not life-threatening and can be managed with treatment.\n",
       "3. **Body mass index [BMI] 23.0-23.9, adult**: A normal BMI does not significantly contribute to the patient's risk.\n",
       "\n",
       "**Other factors:**\n",
       "\n",
       "1. **Personal history of irradiation**: This may increase the patient's risk of certain cancers and other complications.\n",
       "2. **Personal history of nicotine dependence**: This may increase the patient's risk of respiratory and cardiovascular complications.\n",
       "3. **Personal history of COVID-19**: This may increase the patient's risk of respiratory complications.\n",
       "\n",
       "Overall, the patient's multiple high-risk conditions, including cancer, immunodeficiency, and pancytopenia, contribute to a high risk score. The presence of moderate-risk conditions, such as delirium and aphasia, further increases the patient's risk. While there are some low-risk conditions present, they do not significantly impact the overall risk score."
      ],
      "text/plain": [
       "<IPython.core.display.Markdown object>"
      ]
     },
     "metadata": {},
     "output_type": "display_data"
    },
    {
     "name": "stdout",
     "output_type": "stream",
     "text": [
      "------------------------------------\n",
      "------------------------------------\n",
      "patient: \n"
     ]
    },
    {
     "data": {
      "text/markdown": [
       "1878943855"
      ],
      "text/plain": [
       "<IPython.core.display.Markdown object>"
      ]
     },
     "metadata": {},
     "output_type": "display_data"
    },
    {
     "name": "stdout",
     "output_type": "stream",
     "text": [
      "risk: \n"
     ]
    },
    {
     "data": {
      "text/markdown": [
       "Based on the provided medical conditions, I would assign a risk score of 92 to this patient. Here's a breakdown of the factors that contribute to this score:\n",
       "\n",
       "**High-risk conditions:**\n",
       "\n",
       "1. Hypertensive heart disease with heart failure ( score: 20)\n",
       "2. Ventricular tachycardia (score: 15)\n",
       "3. Dilated cardiomyopathy (score: 15)\n",
       "4. Chronic combined systolic and diastolic heart failure (score: 15)\n",
       "5. Paroxysmal atrial fibrillation (score: 10)\n",
       "\n",
       "**Moderate-risk conditions:**\n",
       "\n",
       "1. Obstructive sleep apnea (score: 8)\n",
       "2. Mixed hyperlipidemia (score: 6)\n",
       "3. Anemia, unspecified (score: 5)\n",
       "4. Body mass index [BMI] 38.0-38.9, adult (score: 5)\n",
       "5. Obesity, unspecified (score: 5)\n",
       "6. Other chronic pain (score: 5)\n",
       "7. Depression, unspecified (score: 5)\n",
       "\n",
       "**Low-risk conditions:**\n",
       "\n",
       "1. Restless legs syndrome (score: 2)\n",
       "2. Asymptomatic varicose veins of bilateral lower extremities (score: 2)\n",
       "3. Vitamin D deficiency, unspecified (score: 2)\n",
       "4. Left bundle-branch block, unspecified (score: 2)\n",
       "5. Presence of left artificial hip joint (score: 1)\n",
       "6. Presence of automatic (implantable) cardiac defibrillator (score: 1)\n",
       "7. Oth disrd of bone density and structure, unspecified site (score: 1)\n",
       "8. Fibromyalgia (score: 1)\n",
       "9. Unilateral primary osteoarthritis, right hip (score: 1)\n",
       "\n",
       "**Additional risk factors:**\n",
       "\n",
       "1. Contact with and (suspected) exposure to COVID-19 (score: 5)\n",
       "\n",
       "The overall risk score is calculated by adding the individual scores for each condition and risk factor. The patient's multiple cardiovascular conditions, including heart failure, ventricular tachycardia, and dilated cardiomyopathy, contribute significantly to the high-risk score. The presence of multiple comorbidities, such as obesity, sleep apnea, and depression, further increases the patient's risk. The COVID-19 exposure also adds to the overall risk."
      ],
      "text/plain": [
       "<IPython.core.display.Markdown object>"
      ]
     },
     "metadata": {},
     "output_type": "display_data"
    },
    {
     "name": "stdout",
     "output_type": "stream",
     "text": [
      "------------------------------------\n",
      "------------------------------------\n",
      "patient: \n"
     ]
    },
    {
     "data": {
      "text/markdown": [
       "1602617727"
      ],
      "text/plain": [
       "<IPython.core.display.Markdown object>"
      ]
     },
     "metadata": {},
     "output_type": "display_data"
    },
    {
     "name": "stdout",
     "output_type": "stream",
     "text": [
      "risk: \n"
     ]
    },
    {
     "data": {
      "text/markdown": [
       "Based on the provided medical conditions, I would assign a risk score of **95** to the patient. Here's a breakdown of the factors contributing to this score:\n",
       "\n",
       "**High-risk conditions:**\n",
       "\n",
       "1. Severe sepsis with septic shock: This is a life-threatening condition that requires immediate attention. (Risk score: 30)\n",
       "2. Secondary malignant neoplasms (multiple sites): The presence of multiple secondary cancers indicates advanced disease and a high risk of complications. (Risk score: 20)\n",
       "3. Acute kidney failure: This condition can lead to serious complications, including organ failure and death. (Risk score: 15)\n",
       "4. Agranulocytosis secondary to cancer chemotherapy: This condition increases the risk of severe infections. (Risk score: 10)\n",
       "5. Old myocardial infarction and cardiomyopathy: These conditions indicate a history of cardiovascular disease, which increases the risk of future cardiac events. (Risk score: 5)\n",
       "\n",
       "**Moderate-risk conditions:**\n",
       "\n",
       "1. Pancytopenia: This condition increases the risk of infections and bleeding. (Risk score: 5)\n",
       "2. Thrombocytopenia: This condition increases the risk of bleeding. (Risk score: 3)\n",
       "3. Hypokalemia: This condition can lead to cardiac arrhythmias and muscle weakness. (Risk score: 2)\n",
       "4. Fluid overload: This condition can lead to respiratory and cardiac complications. (Risk score: 2)\n",
       "5. Opioid dependence: This condition increases the risk of overdose and other complications. (Risk score: 2)\n",
       "\n",
       "**Low-risk conditions:**\n",
       "\n",
       "1. Essential hypertension: This condition is a risk factor for cardiovascular disease, but it is not immediately life-threatening. (Risk score: 1)\n",
       "2. Hypothyroidism: This condition can be managed with medication and is not typically life-threatening. (Risk score: 1)\n",
       "3. Claustrophobia and major depressive disorder: These conditions can impact quality of life, but they are not typically life-threatening. (Risk score: 1)\n",
       "\n",
       "**Other factors:**\n",
       "\n",
       "1. History of cancer and chemotherapy: This increases the risk of future complications and secondary cancers. (Risk score: 5)\n",
       "2. Multiple hospitalizations and non-institutional care: This indicates a high level of medical complexity and increases the risk of hospital-acquired infections and other complications. (Risk score: 5)\n",
       "\n",
       "Overall, the patient's multiple high-risk conditions, including severe sepsis, secondary malignant neoplasms, and acute kidney failure, contribute to a high risk score. The presence of moderate-risk conditions, such as pancytopenia and thrombocytopenia, further increases the risk score. While the patient's low-risk conditions, such as essential hypertension and hypothyroidism, do not significantly impact the overall risk score, they do contribute to the patient's overall medical complexity."
      ],
      "text/plain": [
       "<IPython.core.display.Markdown object>"
      ]
     },
     "metadata": {},
     "output_type": "display_data"
    },
    {
     "name": "stdout",
     "output_type": "stream",
     "text": [
      "------------------------------------\n",
      "------------------------------------\n"
     ]
    }
   ],
   "source": [
    "for r in row:\n",
    "    print('patient: ')\n",
    "    display(Markdown(r[0]))\n",
    "    print('risk: ')\n",
    "    display(Markdown(r[1]))\n",
    "    print('------------------------------------')\n",
    "    print('------------------------------------')"
   ]
  },
  {
   "cell_type": "code",
   "execution_count": 46,
   "metadata": {},
   "outputs": [],
   "source": [
    "cur.close()\n",
    "conn.close()\n"
   ]
  },
  {
   "cell_type": "code",
   "execution_count": 60,
   "metadata": {},
   "outputs": [
    {
     "data": {
      "text/markdown": [
       "To assign a risk score to the patient based on the provided list of conditions, I'll use a general framework that considers the severity and potential impact of each condition on the patient's health. This will be a subjective assessment, and actual risk scores may vary depending on the specific context and clinical judgment.\n",
       "\n",
       "Here's a risk score assignment for each condition, with 0 being low risk and 100 being very high risk:\n",
       "\n",
       "1. **Delirium due to known physiological condition**: 60 (moderate to high risk due to potential for acute cognitive decline and increased risk of falls, infections, and other complications)\n",
       "2. **Other specified coagulation defects**: 80 (high risk due to potential for severe bleeding or thrombotic events)\n",
       "3. **Immunodeficiency due to drugs**: 70 (moderate to high risk due to increased susceptibility to infections)\n",
       "4. **Syndrome of inappropriate secretion of antidiuretic hormone**: 60 (moderate to high risk due to potential for hyponatremia and fluid overload)\n",
       "5. **Aphasia**: 40 (moderate risk due to potential for communication difficulties and impact on daily functioning)\n",
       "6. **Immune effector cell-associated neurotoxicity synd, grade 3**: 90 (very high risk due to severe neurological complications)\n",
       "7. **Unspecified severe protein-calorie malnutrition**: 80 (high risk due to potential for weight loss, muscle wasting, and increased risk of infections)\n",
       "8. **Unspecified fall, initial encounter**: 50 (moderate risk due to potential for injury and increased risk of future falls)\n",
       "9. **Depression, unspecified**: 30 (low to moderate risk due to potential for impact on quality of life, but generally manageable with treatment)\n",
       "10. **Adult failure to thrive**: 60 (moderate to high risk due to potential for malnutrition, weight loss, and increased risk of infections)\n",
       "11. **Adverse effect of antineoplastic and immunosup drugs, init**: 80 (high risk due to potential for severe side effects and increased risk of infections)\n",
       "12. **Other long term (current) drug therapy**: 20 (low risk due to generally manageable side effects and potential benefits)\n",
       "13. **Personal history of irradiation**: 40 (moderate risk due to potential for long-term side effects, but generally manageable)\n",
       "14. **Personal history of nicotine dependence**: 20 (low risk due to generally manageable condition with treatment)\n",
       "15. **Antineoplastic chemotherapy induced pancytopenia**: 90 (very high risk due to severe blood cell deficiencies and increased risk of infections)\n",
       "16. **Personal history of COVID-19**: 40 (moderate risk due to potential for long-term effects, but generally manageable)\n",
       "17. **Encntr for exam for nrml cmprsn and ctrl in clncl rsrch prog**: 10 (low risk due to generally routine and non-invasive procedure)\n",
       "18. **Cytokine release syndrome, grade 1**: 50 (moderate risk due to potential for systemic inflammation and organ dysfunction)\n",
       "19. **Fever, unspecified**: 30 (low to moderate risk due to generally manageable condition with treatment)\n",
       "20. **Body mass index [BMI] 23.0-23.9, adult**: 10 (low risk due to generally healthy BMI)\n",
       "21. **Constipation, unspecified**: 20 (low risk due to generally manageable condition with treatment)\n",
       "22. **Unspecified atrial fibrillation**: 60 (moderate to high risk due to potential for stroke and other cardiovascular complications)\n",
       "23. **Essential (primary) hypertension**: 40 (moderate risk due to potential for cardiovascular complications, but generally manageable with treatment)\n",
       "24. **Pure hypercholesterolemia, unspecified**: 30 (low to moderate risk due to potential for cardiovascular complications, but generally manageable with treatment)\n",
       "25. **Encephalopathy, unspecified**: 80 (high risk due to potential for severe neurological complications)\n",
       "26. **Diffuse large B-cell lymphoma, unspecified site**: 90 (very high risk due to potential for aggressive cancer progression and treatment-related complications)\n",
       "27. **Diffuse large B-cell lymphoma, unspecified site**: 90 (very high risk due to potential for aggressive cancer progression and treatment-related complications)\n",
       "\n",
       "To calculate a total risk score, I'll assign a weighted average based on the number of conditions and their respective risk scores. This is a simplified approach and may not reflect the actual risk assessment in a clinical setting.\n",
       "\n",
       "**Total risk score:** 64.4 (out of 100)\n",
       "\n",
       "This score suggests a moderate to high risk for the patient, with several conditions contributing to the overall risk. However, please note that this is a simplified assessment and actual risk scores may vary depending on the specific context and clinical judgment."
      ],
      "text/plain": [
       "<IPython.core.display.Markdown object>"
      ]
     },
     "metadata": {},
     "output_type": "display_data"
    }
   ],
   "source": [
    "conn = snowflake.connector.connect(\n",
    "    account = \"ibb98831\",\n",
    "    user = \"puneetjain\",\n",
    "    password = \"tBowz$M136o*YG1d\",\n",
    "    role = \"ACCOUNTADMIN\",\n",
    "    warehouse = \"COMPUTE_WH\",\n",
    "    database=\"HOSPITAL_CHARGEMASTER_DATA\",\n",
    "    schema=\"ISTG\",\n",
    "    region=\"us-west-2\"\n",
    "    )\n",
    "\n",
    "cur = conn.cursor()\n",
    "query = \"\"\"select RECORD_ID,SNOWFLAKE.CORTEX.COMPLETE('llama3.1-8b', CONCAT('Assign a risk score to the patient - with 0 being low risk and 100 being very high risk: ', DESC)) FROM (\n",
    "  select RECORD_ID, LISTAGG(ICD_DIAGNOSIS_DESC, ', ')\n",
    "  WITHIN GROUP (ORDER BY DIAGNOSIS_ORDER  DESC) as \"DESC\"\n",
    "  FROM HOSPITAL_CHARGEMASTER_DATA.ISTG.DIAGNOSES \n",
    "  group by RECORD_ID\n",
    "  limit 1);\"\"\"\n",
    "cur.execute(query)\n",
    "\n",
    "row = cur.fetchall()\n",
    "display(Markdown(row[0][1]))\n",
    "cur.close()\n",
    "conn.close()"
   ]
  },
  {
   "cell_type": "code",
   "execution_count": 59,
   "metadata": {},
   "outputs": [
    {
     "name": "stdout",
     "output_type": "stream",
     "text": [
      "poe_id: 10014729-590. poe_seq: 590. subject_id: 10014729. hadm_id: 23300884. ordertime: 2125-03-26 09:02:16. order_type: Medications. transaction_type: New. order_provider_id: P00AEX. order_status: Inactive. poe_id: 10014729-518. poe_seq: 518. subject_id: 10014729. field_name: Admit to. field_value: Surgery. subject_id: 10014729. gender: F. anchor_age: 21. anchor_year: 2125. anchor_year_group: 2011 - 2013. subject_id: 10014729. hadm_id: 23300884. seq_num: 3. icd_code: 99832. icd_version: 9. subject_id: 10014729. hadm_id: 23300884. pharmacy_id: 8661097. poe_id: 10014729-356. poe_seq: 356.0. order_provider_id: P98O2Z. starttime: 2125-03-19 20:00:00. stoptime: 2125-03-20 18:00:00. drug_type: MAIN. drug: Insulin. formulary_drug_cd: INRHI. gsn: 001723. ndc: 2821501.0. prod_strength: 100 Units / mL - 10 mL Vial. dose_val_rx: 0. dose_unit_rx: UNIT. form_val_disp: 0. form_unit_disp: mL. route: SC. subject_id: 10014729. hadm_id: 28889419. drg_type: HCFA. drg_code: 908. description: OTHER O.R. PROCEDURES FOR INJURIES W CC. subject_id: 10014729. hadm_id: 28889419.0. transfer_id: 36847815. eventtype: discharge. intime: 2125-03-06 14:26:51. subject_id: 10014729. hadm_id: 23300884. admittime: 2125-03-19 16:58:00. dischtime: 2125-03-28 13:37:00. admission_type: EW EMER.. admit_provider_id: P76K54. admission_location: EMERGENCY ROOM. discharge_location: HOME HEALTH CARE. insurance: Other. language: ENGLISH. marital_status: SINGLE. race: WHITE - OTHER EUROPEAN. edregtime: 2125-03-19 12:36:00. edouttime: 2125-03-19 18:45:00. hospital_expire_flag: 0. labevent_id: 187725. subject_id: 10014729. hadm_id: 23300884.0. specimen_id: 47191659. itemid: 51009. charttime: 2125-03-25 10:00:00. storetime: 2125-03-25 10:54:00. value: 13.5. valuenum: 13.5. valueuom: ug/mL. ref_range_lower: 10.0. ref_range_upper: 20.0. priority: ROUTINE. subject_id: 10014729. hadm_id: 28889419. pharmacy_id: 8933330. poe_id: 10014729-35. starttime: 2125-02-27 20:00:00. stoptime: 2125-02-27 17:00:00. medication: Chlorhexidine Gluconate 0.12% Oral Rinse. proc_type: Unit Dose. status: Discontinued. entertime: 2125-02-27 16:30:43. verifiedtime: 2125-02-27 16:30:43. route: ORAL. frequency: BID. disp_sched: 08, 20. doses_per_24_hrs: 2.0. duration_interval: Ongoing. expiration_value: 36.0. expiration_unit: Hours. dispensation: OmniCell. subject_id: 10014729. hadm_id: 23300884. seq_num: 4. chartdate: 2125-03-23. icd_code: 3897. icd_version: 9. subject_id: 10014729. hadm_id: 23300884. transfertime: 2125-03-20 10:58:51. prev_service: VSURG. curr_service: CSURG. subject_id: 10014729. chartdate: 2125-02-22. seq_num: 1. result_name: Height (Inches). result_value: 65. microevent_id: 5229. subject_id: 10014729. micro_specimen_id: 2551368. order_provider_id: P38GCF. chartdate: 2125-02-22 00:00:00. charttime: 2125-02-22 11:23:00. spec_itemid: 70059. spec_type_desc: Staph aureus swab. test_seq: 1. storedate: 2125-02-24 00:00:00. storetime: 2125-02-24 08:38:00. test_itemid: 90198. test_name: Staph aureus Screen. org_itemid: 80293.0. org_name: POSITIVE FOR METHICILLIN RESISTANT STAPH AUREUS. isolate_num: 1.0. subject_id: 10014729. hadm_id: 28889419. stay_id: 33558396. caregiver_id: 80393. charttime: 2125-02-28 04:10:00. storetime: 2125-02-28 04:10:00. itemid: 224296. value: 2125-02-27 00:00:00. valueuom: Date. warning: 0. subject_id: 10014729. hadm_id: 28889419. stay_id: 33558396. caregiver_id: 53913. starttime: 2125-02-27 14:45:00. endtime: 2125-02-27 16:00:00. storetime: 2125-02-27 15:29:00. itemid: 226060. amount: 29.999998211860657. amountuom: Kcal. rate: 5517.24100112915. rateuom: mcg/kg/min. orderid: 6089990. linkorderid: 6089990. statusdescription: ChangeDose/Rate. originalamount: 0. originalrate: 109.99999237060548. subject_id: 10014729. hadm_id: 28889419. stay_id: 33558396. caregiver_id: 53913. starttime: 2125-02-27 20:06:00. endtime: 2125-02-27 21:06:00. storetime: 2125-02-27 20:06:00. itemid: 221456. amount: 2.0000001043081284. amountuom: grams. orderid: 1673712. linkorderid: 1673712. ordercategoryname: 02-Fluids (Crystalloids). secondaryordercategoryname: Additive (Crystalloid). ordercomponenttypedescription: Additives                                         Ampoule                                           . ordercategorydescription: Continuous IV. patientweight: 72.5. totalamount: 100.0. totalamountuom: ml. isopenbag: 0. continueinnextdept: 0. statusdescription: FinishedRunning. originalamount: 2.0. originalrate: 0.0333333350718021. subject_id: 10014729. hadm_id: 28889419. stay_id: 33558396. caregiver_id: 80743.0. starttime: 2125-02-27 14:45:00. endtime: 2125-02-27 19:05:00. storetime: 2125-02-27 19:07:00. itemid: 225792. value: 260.0. valueuom: min. orderid: 4513647. linkorderid: 4513647. ordercategoryname: Ventilation. ordercategorydescription: ContinuousProcess. patientweight: 72.5. isopenbag: 1. continueinnextdept: 0. statusdescription: FinishedRunning. ORIGINALAMOUNT: 260.0. ORIGINALRATE: 1. subject_id: 10014729. hadm_id: 28889419. stay_id: 33558396. caregiver_id: 6770.0. charttime: 2125-03-01 00:00:00. storetime: 2125-03-01 05:31:00. itemid: 223782. value: Constant. warning: 0.0. subject_id: 10014729. hadm_id: 28889419. stay_id: 33558396. first_careunit: Cardiac Vascular Intensive Care Unit (CVICU). last_careunit: Cardiac Vascular Intensive Care Unit (CVICU). intime: 2125-02-27 10:03:08. outtime: 2125-03-01 21:21:37. los: 2.4711689814814815. subject_id: 10014729. hadm_id: 28889419. stay_id: 33558396. caregiver_id: 80393. charttime: 2125-02-28 03:00:00. storetime: 2125-02-28 02:53:00. itemid: 226559. value: 150. valueuom: ml.\n"
     ]
    },
    {
     "data": {
      "text/markdown": [
       "Based on the provided clinical history, the top 3 risk factors for this patient are:\n",
       "\n",
       "1. **Methicillin-resistant Staphylococcus aureus (MRSA) infection**: The patient has a positive test result for MRSA, which is a type of bacterial infection that is resistant to many antibiotics. This increases the risk of complications, prolonged hospital stay, and increased healthcare costs.\n",
       "2. **Surgical procedure**: The patient underwent a surgical procedure (ICD-9 code 99832), which increases the risk of post-operative complications, such as infection, bleeding, and respiratory problems.\n",
       "3. **Insulin therapy**: The patient is receiving insulin therapy (100 Units/mL - 10 mL Vial), which increases the risk of hypoglycemia (low blood sugar), hyperglycemia (high blood sugar), and other complications related to diabetes management.\n",
       "\n",
       "These three risk factors are the most significant based on the provided clinical history, but it's essential to note that there may be other risk factors present that are not mentioned in the provided data."
      ],
      "text/plain": [
       "<IPython.core.display.Markdown object>"
      ]
     },
     "metadata": {},
     "output_type": "display_data"
    }
   ],
   "source": [
    "conn = snowflake.connector.connect(\n",
    "    account = \"ibb98831\",\n",
    "    user = \"puneetjain\",\n",
    "    password = \"tBowz$M136o*YG1d\",\n",
    "    role = \"ACCOUNTADMIN\",\n",
    "    warehouse = \"COMPUTE_WH\",\n",
    "    database=\"PATIENT_TEXTS\",\n",
    "    schema=\"PUBLIC\",\n",
    "    region=\"us-west-2\"\n",
    "    )\n",
    "\n",
    "cur = conn.cursor()\n",
    "\n",
    "# I have already put the above summary on snowflake, so just going to query it\n",
    "cur.execute(\"SELECT * FROM PATIENT_TEXTS.PUBLIC.PATIENTSUMMARY LIMIT 1\")\n",
    "\n",
    "row = cur.fetchone()\n",
    "print(row[2])\n",
    "\n",
    "query = \"\"\"select SNOWFLAKE.CORTEX.COMPLETE(\n",
    "    'llama3.1-8b', CONCAT('What are the top 3 risk factors for this patient based on this clinical history: ', C3)) FROM PATIENT_TEXTS.PUBLIC.PATIENTSUMMARY LIMIT 1;\"\"\"\n",
    "\n",
    "cur.execute(query)\n",
    "\n",
    "row = cur.fetchall()\n",
    "display(Markdown(row[0][0]))\n",
    "cur.close()\n",
    "conn.close()"
   ]
  }
 ],
 "metadata": {
  "kernelspec": {
   "display_name": "Python 3",
   "language": "python",
   "name": "python3"
  },
  "language_info": {
   "codemirror_mode": {
    "name": "ipython",
    "version": 3
   },
   "file_extension": ".py",
   "mimetype": "text/x-python",
   "name": "python",
   "nbconvert_exporter": "python",
   "pygments_lexer": "ipython3",
   "version": "3.9.6"
  },
  "orig_nbformat": 4
 },
 "nbformat": 4,
 "nbformat_minor": 2
}
